{
 "cells": [
  {
   "cell_type": "code",
   "execution_count": 1,
   "metadata": {},
   "outputs": [
    {
     "name": "stderr",
     "output_type": "stream",
     "text": [
      "C:\\Python\\Anaconda3-52\\lib\\site-packages\\h5py\\__init__.py:36: FutureWarning: Conversion of the second argument of issubdtype from `float` to `np.floating` is deprecated. In future, it will be treated as `np.float64 == np.dtype(float).type`.\n",
      "  from ._conv import register_converters as _register_converters\n"
     ]
    }
   ],
   "source": [
    "import pandas as pd\n",
    "from datetime import datetime\n",
    "import time\n",
    "import numpy as np\n",
    "import re\n",
    "import datetime\n",
    "import matplotlib as mpl\n",
    "import matplotlib.pyplot as plt\n",
    "import tensorflow as tf\n",
    "\n",
    "# 노트북 안에 그래프를 그리기 위해\n",
    "%matplotlib inline\n",
    "\n",
    "# 그래프에서 격자로 숫자 범위가 눈에 잘 띄도록 ggplot 스타일을 사용\n",
    "plt.style.use('ggplot')\n",
    "\n",
    "# 그래프에서 마이너스 폰트 깨지는 문제에 대한 대처\n",
    "mpl.rcParams['axes.unicode_minus'] = False"
   ]
  },
  {
   "cell_type": "code",
   "execution_count": 15,
   "metadata": {},
   "outputs": [
    {
     "data": {
      "text/plain": [
       "(10886, 12)"
      ]
     },
     "execution_count": 15,
     "metadata": {},
     "output_type": "execute_result"
    }
   ],
   "source": [
    "df_train = pd.read_csv('./data/bikesharing_train.csv',parse_dates=[\"datetime\"],encoding = 'utf-8')\n",
    "df_train.shape"
   ]
  },
  {
   "cell_type": "code",
   "execution_count": 16,
   "metadata": {},
   "outputs": [
    {
     "data": {
      "text/html": [
       "<div>\n",
       "<style scoped>\n",
       "    .dataframe tbody tr th:only-of-type {\n",
       "        vertical-align: middle;\n",
       "    }\n",
       "\n",
       "    .dataframe tbody tr th {\n",
       "        vertical-align: top;\n",
       "    }\n",
       "\n",
       "    .dataframe thead th {\n",
       "        text-align: right;\n",
       "    }\n",
       "</style>\n",
       "<table border=\"1\" class=\"dataframe\">\n",
       "  <thead>\n",
       "    <tr style=\"text-align: right;\">\n",
       "      <th></th>\n",
       "      <th>datetime</th>\n",
       "      <th>season</th>\n",
       "      <th>holiday</th>\n",
       "      <th>workingday</th>\n",
       "      <th>weather</th>\n",
       "      <th>temp</th>\n",
       "      <th>atemp</th>\n",
       "      <th>humidity</th>\n",
       "      <th>windspeed</th>\n",
       "      <th>casual</th>\n",
       "      <th>registered</th>\n",
       "      <th>count</th>\n",
       "    </tr>\n",
       "  </thead>\n",
       "  <tbody>\n",
       "    <tr>\n",
       "      <th>0</th>\n",
       "      <td>2011-01-01 00:00:00</td>\n",
       "      <td>1</td>\n",
       "      <td>0</td>\n",
       "      <td>0</td>\n",
       "      <td>1</td>\n",
       "      <td>9.84</td>\n",
       "      <td>14.395</td>\n",
       "      <td>81</td>\n",
       "      <td>0.0</td>\n",
       "      <td>3</td>\n",
       "      <td>13</td>\n",
       "      <td>16</td>\n",
       "    </tr>\n",
       "    <tr>\n",
       "      <th>1</th>\n",
       "      <td>2011-01-01 01:00:00</td>\n",
       "      <td>1</td>\n",
       "      <td>0</td>\n",
       "      <td>0</td>\n",
       "      <td>1</td>\n",
       "      <td>9.02</td>\n",
       "      <td>13.635</td>\n",
       "      <td>80</td>\n",
       "      <td>0.0</td>\n",
       "      <td>8</td>\n",
       "      <td>32</td>\n",
       "      <td>40</td>\n",
       "    </tr>\n",
       "    <tr>\n",
       "      <th>2</th>\n",
       "      <td>2011-01-01 02:00:00</td>\n",
       "      <td>1</td>\n",
       "      <td>0</td>\n",
       "      <td>0</td>\n",
       "      <td>1</td>\n",
       "      <td>9.02</td>\n",
       "      <td>13.635</td>\n",
       "      <td>80</td>\n",
       "      <td>0.0</td>\n",
       "      <td>5</td>\n",
       "      <td>27</td>\n",
       "      <td>32</td>\n",
       "    </tr>\n",
       "    <tr>\n",
       "      <th>3</th>\n",
       "      <td>2011-01-01 03:00:00</td>\n",
       "      <td>1</td>\n",
       "      <td>0</td>\n",
       "      <td>0</td>\n",
       "      <td>1</td>\n",
       "      <td>9.84</td>\n",
       "      <td>14.395</td>\n",
       "      <td>75</td>\n",
       "      <td>0.0</td>\n",
       "      <td>3</td>\n",
       "      <td>10</td>\n",
       "      <td>13</td>\n",
       "    </tr>\n",
       "    <tr>\n",
       "      <th>4</th>\n",
       "      <td>2011-01-01 04:00:00</td>\n",
       "      <td>1</td>\n",
       "      <td>0</td>\n",
       "      <td>0</td>\n",
       "      <td>1</td>\n",
       "      <td>9.84</td>\n",
       "      <td>14.395</td>\n",
       "      <td>75</td>\n",
       "      <td>0.0</td>\n",
       "      <td>0</td>\n",
       "      <td>1</td>\n",
       "      <td>1</td>\n",
       "    </tr>\n",
       "  </tbody>\n",
       "</table>\n",
       "</div>"
      ],
      "text/plain": [
       "             datetime  season  holiday  workingday  weather  temp   atemp  \\\n",
       "0 2011-01-01 00:00:00       1        0           0        1  9.84  14.395   \n",
       "1 2011-01-01 01:00:00       1        0           0        1  9.02  13.635   \n",
       "2 2011-01-01 02:00:00       1        0           0        1  9.02  13.635   \n",
       "3 2011-01-01 03:00:00       1        0           0        1  9.84  14.395   \n",
       "4 2011-01-01 04:00:00       1        0           0        1  9.84  14.395   \n",
       "\n",
       "   humidity  windspeed  casual  registered  count  \n",
       "0        81        0.0       3          13     16  \n",
       "1        80        0.0       8          32     40  \n",
       "2        80        0.0       5          27     32  \n",
       "3        75        0.0       3          10     13  \n",
       "4        75        0.0       0           1      1  "
      ]
     },
     "execution_count": 16,
     "metadata": {},
     "output_type": "execute_result"
    }
   ],
   "source": [
    "df_train.head()"
   ]
  },
  {
   "cell_type": "code",
   "execution_count": 17,
   "metadata": {},
   "outputs": [
    {
     "name": "stdout",
     "output_type": "stream",
     "text": [
      "<class 'pandas.core.frame.DataFrame'>\n",
      "RangeIndex: 10886 entries, 0 to 10885\n",
      "Data columns (total 12 columns):\n",
      "datetime      10886 non-null datetime64[ns]\n",
      "season        10886 non-null int64\n",
      "holiday       10886 non-null int64\n",
      "workingday    10886 non-null int64\n",
      "weather       10886 non-null int64\n",
      "temp          10886 non-null float64\n",
      "atemp         10886 non-null float64\n",
      "humidity      10886 non-null int64\n",
      "windspeed     10886 non-null float64\n",
      "casual        10886 non-null int64\n",
      "registered    10886 non-null int64\n",
      "count         10886 non-null int64\n",
      "dtypes: datetime64[ns](1), float64(3), int64(8)\n",
      "memory usage: 1020.6 KB\n"
     ]
    }
   ],
   "source": [
    "# df_train.columns\n",
    "df_train.info()"
   ]
  },
  {
   "cell_type": "code",
   "execution_count": 18,
   "metadata": {},
   "outputs": [
    {
     "data": {
      "text/plain": [
       "datetime      0\n",
       "season        0\n",
       "holiday       0\n",
       "workingday    0\n",
       "weather       0\n",
       "temp          0\n",
       "atemp         0\n",
       "humidity      0\n",
       "windspeed     0\n",
       "casual        0\n",
       "registered    0\n",
       "count         0\n",
       "dtype: int64"
      ]
     },
     "execution_count": 18,
     "metadata": {},
     "output_type": "execute_result"
    }
   ],
   "source": [
    "df_train.isnull().sum()"
   ]
  },
  {
   "cell_type": "code",
   "execution_count": 19,
   "metadata": {},
   "outputs": [
    {
     "data": {
      "text/html": [
       "<style  type=\"text/css\" >\n",
       "    #T_cb300598_f274_11e8_a94c_00e260c19defrow0_col0 {\n",
       "            background-color:  #d9d9d9;\n",
       "        }    #T_cb300598_f274_11e8_a94c_00e260c19defrow0_col1 {\n",
       "            background-color:  #c6dbef;\n",
       "        }    #T_cb300598_f274_11e8_a94c_00e260c19defrow0_col2 {\n",
       "            background-color:  #9ecae1;\n",
       "        }    #T_cb300598_f274_11e8_a94c_00e260c19defrow0_col3 {\n",
       "            background-color:  #9ecae1;\n",
       "        }    #T_cb300598_f274_11e8_a94c_00e260c19defrow0_col4 {\n",
       "            background-color:  #fdd0a2;\n",
       "        }    #T_cb300598_f274_11e8_a94c_00e260c19defrow0_col5 {\n",
       "            background-color:  #fdd0a2;\n",
       "        }    #T_cb300598_f274_11e8_a94c_00e260c19defrow0_col6 {\n",
       "            background-color:  #fd8d3c;\n",
       "        }    #T_cb300598_f274_11e8_a94c_00e260c19defrow0_col7 {\n",
       "            background-color:  #3182bd;\n",
       "        }    #T_cb300598_f274_11e8_a94c_00e260c19defrow0_col8 {\n",
       "            background-color:  #e6550d;\n",
       "        }    #T_cb300598_f274_11e8_a94c_00e260c19defrow0_col9 {\n",
       "            background-color:  #fd8d3c;\n",
       "        }    #T_cb300598_f274_11e8_a94c_00e260c19defrow0_col10 {\n",
       "            background-color:  #fd8d3c;\n",
       "        }    #T_cb300598_f274_11e8_a94c_00e260c19defrow1_col0 {\n",
       "            background-color:  #e6550d;\n",
       "        }    #T_cb300598_f274_11e8_a94c_00e260c19defrow1_col1 {\n",
       "            background-color:  #d9d9d9;\n",
       "        }    #T_cb300598_f274_11e8_a94c_00e260c19defrow1_col2 {\n",
       "            background-color:  #3182bd;\n",
       "        }    #T_cb300598_f274_11e8_a94c_00e260c19defrow1_col3 {\n",
       "            background-color:  #c6dbef;\n",
       "        }    #T_cb300598_f274_11e8_a94c_00e260c19defrow1_col4 {\n",
       "            background-color:  #e6550d;\n",
       "        }    #T_cb300598_f274_11e8_a94c_00e260c19defrow1_col5 {\n",
       "            background-color:  #c6dbef;\n",
       "        }    #T_cb300598_f274_11e8_a94c_00e260c19defrow1_col6 {\n",
       "            background-color:  #e6550d;\n",
       "        }    #T_cb300598_f274_11e8_a94c_00e260c19defrow1_col7 {\n",
       "            background-color:  #e6550d;\n",
       "        }    #T_cb300598_f274_11e8_a94c_00e260c19defrow1_col8 {\n",
       "            background-color:  #e6550d;\n",
       "        }    #T_cb300598_f274_11e8_a94c_00e260c19defrow1_col9 {\n",
       "            background-color:  #c6dbef;\n",
       "        }    #T_cb300598_f274_11e8_a94c_00e260c19defrow1_col10 {\n",
       "            background-color:  #c6dbef;\n",
       "        }    #T_cb300598_f274_11e8_a94c_00e260c19defrow2_col0 {\n",
       "            background-color:  #e6550d;\n",
       "        }    #T_cb300598_f274_11e8_a94c_00e260c19defrow2_col1 {\n",
       "            background-color:  #6baed6;\n",
       "        }    #T_cb300598_f274_11e8_a94c_00e260c19defrow2_col2 {\n",
       "            background-color:  #d9d9d9;\n",
       "        }    #T_cb300598_f274_11e8_a94c_00e260c19defrow2_col3 {\n",
       "            background-color:  #fd8d3c;\n",
       "        }    #T_cb300598_f274_11e8_a94c_00e260c19defrow2_col4 {\n",
       "            background-color:  #fd8d3c;\n",
       "        }    #T_cb300598_f274_11e8_a94c_00e260c19defrow2_col5 {\n",
       "            background-color:  #fd8d3c;\n",
       "        }    #T_cb300598_f274_11e8_a94c_00e260c19defrow2_col6 {\n",
       "            background-color:  #e6550d;\n",
       "        }    #T_cb300598_f274_11e8_a94c_00e260c19defrow2_col7 {\n",
       "            background-color:  #fd8d3c;\n",
       "        }    #T_cb300598_f274_11e8_a94c_00e260c19defrow2_col8 {\n",
       "            background-color:  #3182bd;\n",
       "        }    #T_cb300598_f274_11e8_a94c_00e260c19defrow2_col9 {\n",
       "            background-color:  #fdae6b;\n",
       "        }    #T_cb300598_f274_11e8_a94c_00e260c19defrow2_col10 {\n",
       "            background-color:  #fd8d3c;\n",
       "        }    #T_cb300598_f274_11e8_a94c_00e260c19defrow3_col0 {\n",
       "            background-color:  #9ecae1;\n",
       "        }    #T_cb300598_f274_11e8_a94c_00e260c19defrow3_col1 {\n",
       "            background-color:  #9ecae1;\n",
       "        }    #T_cb300598_f274_11e8_a94c_00e260c19defrow3_col2 {\n",
       "            background-color:  #9ecae1;\n",
       "        }    #T_cb300598_f274_11e8_a94c_00e260c19defrow3_col3 {\n",
       "            background-color:  #d9d9d9;\n",
       "        }    #T_cb300598_f274_11e8_a94c_00e260c19defrow3_col4 {\n",
       "            background-color:  #6baed6;\n",
       "        }    #T_cb300598_f274_11e8_a94c_00e260c19defrow3_col5 {\n",
       "            background-color:  #6baed6;\n",
       "        }    #T_cb300598_f274_11e8_a94c_00e260c19defrow3_col6 {\n",
       "            background-color:  #74c476;\n",
       "        }    #T_cb300598_f274_11e8_a94c_00e260c19defrow3_col7 {\n",
       "            background-color:  #9ecae1;\n",
       "        }    #T_cb300598_f274_11e8_a94c_00e260c19defrow3_col8 {\n",
       "            background-color:  #3182bd;\n",
       "        }    #T_cb300598_f274_11e8_a94c_00e260c19defrow3_col9 {\n",
       "            background-color:  #3182bd;\n",
       "        }    #T_cb300598_f274_11e8_a94c_00e260c19defrow3_col10 {\n",
       "            background-color:  #3182bd;\n",
       "        }    #T_cb300598_f274_11e8_a94c_00e260c19defrow4_col0 {\n",
       "            background-color:  #fdae6b;\n",
       "        }    #T_cb300598_f274_11e8_a94c_00e260c19defrow4_col1 {\n",
       "            background-color:  #6baed6;\n",
       "        }    #T_cb300598_f274_11e8_a94c_00e260c19defrow4_col2 {\n",
       "            background-color:  #6baed6;\n",
       "        }    #T_cb300598_f274_11e8_a94c_00e260c19defrow4_col3 {\n",
       "            background-color:  #3182bd;\n",
       "        }    #T_cb300598_f274_11e8_a94c_00e260c19defrow4_col4 {\n",
       "            background-color:  #d9d9d9;\n",
       "        }    #T_cb300598_f274_11e8_a94c_00e260c19defrow4_col5 {\n",
       "            background-color:  #d9d9d9;\n",
       "        }    #T_cb300598_f274_11e8_a94c_00e260c19defrow4_col6 {\n",
       "            background-color:  #3182bd;\n",
       "        }    #T_cb300598_f274_11e8_a94c_00e260c19defrow4_col7 {\n",
       "            background-color:  #3182bd;\n",
       "        }    #T_cb300598_f274_11e8_a94c_00e260c19defrow4_col8 {\n",
       "            background-color:  #74c476;\n",
       "        }    #T_cb300598_f274_11e8_a94c_00e260c19defrow4_col9 {\n",
       "            background-color:  #fdd0a2;\n",
       "        }    #T_cb300598_f274_11e8_a94c_00e260c19defrow4_col10 {\n",
       "            background-color:  #31a354;\n",
       "        }    #T_cb300598_f274_11e8_a94c_00e260c19defrow5_col0 {\n",
       "            background-color:  #fdae6b;\n",
       "        }    #T_cb300598_f274_11e8_a94c_00e260c19defrow5_col1 {\n",
       "            background-color:  #3182bd;\n",
       "        }    #T_cb300598_f274_11e8_a94c_00e260c19defrow5_col2 {\n",
       "            background-color:  #6baed6;\n",
       "        }    #T_cb300598_f274_11e8_a94c_00e260c19defrow5_col3 {\n",
       "            background-color:  #3182bd;\n",
       "        }    #T_cb300598_f274_11e8_a94c_00e260c19defrow5_col4 {\n",
       "            background-color:  #d9d9d9;\n",
       "        }    #T_cb300598_f274_11e8_a94c_00e260c19defrow5_col5 {\n",
       "            background-color:  #d9d9d9;\n",
       "        }    #T_cb300598_f274_11e8_a94c_00e260c19defrow5_col6 {\n",
       "            background-color:  #3182bd;\n",
       "        }    #T_cb300598_f274_11e8_a94c_00e260c19defrow5_col7 {\n",
       "            background-color:  #3182bd;\n",
       "        }    #T_cb300598_f274_11e8_a94c_00e260c19defrow5_col8 {\n",
       "            background-color:  #74c476;\n",
       "        }    #T_cb300598_f274_11e8_a94c_00e260c19defrow5_col9 {\n",
       "            background-color:  #fdd0a2;\n",
       "        }    #T_cb300598_f274_11e8_a94c_00e260c19defrow5_col10 {\n",
       "            background-color:  #31a354;\n",
       "        }    #T_cb300598_f274_11e8_a94c_00e260c19defrow6_col0 {\n",
       "            background-color:  #fdd0a2;\n",
       "        }    #T_cb300598_f274_11e8_a94c_00e260c19defrow6_col1 {\n",
       "            background-color:  #fd8d3c;\n",
       "        }    #T_cb300598_f274_11e8_a94c_00e260c19defrow6_col2 {\n",
       "            background-color:  #fd8d3c;\n",
       "        }    #T_cb300598_f274_11e8_a94c_00e260c19defrow6_col3 {\n",
       "            background-color:  #c7e9c0;\n",
       "        }    #T_cb300598_f274_11e8_a94c_00e260c19defrow6_col4 {\n",
       "            background-color:  #e6550d;\n",
       "        }    #T_cb300598_f274_11e8_a94c_00e260c19defrow6_col5 {\n",
       "            background-color:  #e6550d;\n",
       "        }    #T_cb300598_f274_11e8_a94c_00e260c19defrow6_col6 {\n",
       "            background-color:  #d9d9d9;\n",
       "        }    #T_cb300598_f274_11e8_a94c_00e260c19defrow6_col7 {\n",
       "            background-color:  #3182bd;\n",
       "        }    #T_cb300598_f274_11e8_a94c_00e260c19defrow6_col8 {\n",
       "            background-color:  #3182bd;\n",
       "        }    #T_cb300598_f274_11e8_a94c_00e260c19defrow6_col9 {\n",
       "            background-color:  #6baed6;\n",
       "        }    #T_cb300598_f274_11e8_a94c_00e260c19defrow6_col10 {\n",
       "            background-color:  #3182bd;\n",
       "        }    #T_cb300598_f274_11e8_a94c_00e260c19defrow7_col0 {\n",
       "            background-color:  #9ecae1;\n",
       "        }    #T_cb300598_f274_11e8_a94c_00e260c19defrow7_col1 {\n",
       "            background-color:  #e6550d;\n",
       "        }    #T_cb300598_f274_11e8_a94c_00e260c19defrow7_col2 {\n",
       "            background-color:  #fd8d3c;\n",
       "        }    #T_cb300598_f274_11e8_a94c_00e260c19defrow7_col3 {\n",
       "            background-color:  #e6550d;\n",
       "        }    #T_cb300598_f274_11e8_a94c_00e260c19defrow7_col4 {\n",
       "            background-color:  #e6550d;\n",
       "        }    #T_cb300598_f274_11e8_a94c_00e260c19defrow7_col5 {\n",
       "            background-color:  #c6dbef;\n",
       "        }    #T_cb300598_f274_11e8_a94c_00e260c19defrow7_col6 {\n",
       "            background-color:  #3182bd;\n",
       "        }    #T_cb300598_f274_11e8_a94c_00e260c19defrow7_col7 {\n",
       "            background-color:  #d9d9d9;\n",
       "        }    #T_cb300598_f274_11e8_a94c_00e260c19defrow7_col8 {\n",
       "            background-color:  #fdae6b;\n",
       "        }    #T_cb300598_f274_11e8_a94c_00e260c19defrow7_col9 {\n",
       "            background-color:  #fdae6b;\n",
       "        }    #T_cb300598_f274_11e8_a94c_00e260c19defrow7_col10 {\n",
       "            background-color:  #fdae6b;\n",
       "        }    #T_cb300598_f274_11e8_a94c_00e260c19defrow8_col0 {\n",
       "            background-color:  #fdae6b;\n",
       "        }    #T_cb300598_f274_11e8_a94c_00e260c19defrow8_col1 {\n",
       "            background-color:  #fd8d3c;\n",
       "        }    #T_cb300598_f274_11e8_a94c_00e260c19defrow8_col2 {\n",
       "            background-color:  #3182bd;\n",
       "        }    #T_cb300598_f274_11e8_a94c_00e260c19defrow8_col3 {\n",
       "            background-color:  #c6dbef;\n",
       "        }    #T_cb300598_f274_11e8_a94c_00e260c19defrow8_col4 {\n",
       "            background-color:  #756bb1;\n",
       "        }    #T_cb300598_f274_11e8_a94c_00e260c19defrow8_col5 {\n",
       "            background-color:  #756bb1;\n",
       "        }    #T_cb300598_f274_11e8_a94c_00e260c19defrow8_col6 {\n",
       "            background-color:  #3182bd;\n",
       "        }    #T_cb300598_f274_11e8_a94c_00e260c19defrow8_col7 {\n",
       "            background-color:  #fdae6b;\n",
       "        }    #T_cb300598_f274_11e8_a94c_00e260c19defrow8_col8 {\n",
       "            background-color:  #d9d9d9;\n",
       "        }    #T_cb300598_f274_11e8_a94c_00e260c19defrow8_col9 {\n",
       "            background-color:  #756bb1;\n",
       "        }    #T_cb300598_f274_11e8_a94c_00e260c19defrow8_col10 {\n",
       "            background-color:  #dadaeb;\n",
       "        }    #T_cb300598_f274_11e8_a94c_00e260c19defrow9_col0 {\n",
       "            background-color:  #fdae6b;\n",
       "        }    #T_cb300598_f274_11e8_a94c_00e260c19defrow9_col1 {\n",
       "            background-color:  #c6dbef;\n",
       "        }    #T_cb300598_f274_11e8_a94c_00e260c19defrow9_col2 {\n",
       "            background-color:  #fdae6b;\n",
       "        }    #T_cb300598_f274_11e8_a94c_00e260c19defrow9_col3 {\n",
       "            background-color:  #9ecae1;\n",
       "        }    #T_cb300598_f274_11e8_a94c_00e260c19defrow9_col4 {\n",
       "            background-color:  #74c476;\n",
       "        }    #T_cb300598_f274_11e8_a94c_00e260c19defrow9_col5 {\n",
       "            background-color:  #74c476;\n",
       "        }    #T_cb300598_f274_11e8_a94c_00e260c19defrow9_col6 {\n",
       "            background-color:  #3182bd;\n",
       "        }    #T_cb300598_f274_11e8_a94c_00e260c19defrow9_col7 {\n",
       "            background-color:  #fd8d3c;\n",
       "        }    #T_cb300598_f274_11e8_a94c_00e260c19defrow9_col8 {\n",
       "            background-color:  #756bb1;\n",
       "        }    #T_cb300598_f274_11e8_a94c_00e260c19defrow9_col9 {\n",
       "            background-color:  #d9d9d9;\n",
       "        }    #T_cb300598_f274_11e8_a94c_00e260c19defrow9_col10 {\n",
       "            background-color:  #d9d9d9;\n",
       "        }    #T_cb300598_f274_11e8_a94c_00e260c19defrow10_col0 {\n",
       "            background-color:  #fdd0a2;\n",
       "        }    #T_cb300598_f274_11e8_a94c_00e260c19defrow10_col1 {\n",
       "            background-color:  #e6550d;\n",
       "        }    #T_cb300598_f274_11e8_a94c_00e260c19defrow10_col2 {\n",
       "            background-color:  #e6550d;\n",
       "        }    #T_cb300598_f274_11e8_a94c_00e260c19defrow10_col3 {\n",
       "            background-color:  #9ecae1;\n",
       "        }    #T_cb300598_f274_11e8_a94c_00e260c19defrow10_col4 {\n",
       "            background-color:  #a1d99b;\n",
       "        }    #T_cb300598_f274_11e8_a94c_00e260c19defrow10_col5 {\n",
       "            background-color:  #a1d99b;\n",
       "        }    #T_cb300598_f274_11e8_a94c_00e260c19defrow10_col6 {\n",
       "            background-color:  #3182bd;\n",
       "        }    #T_cb300598_f274_11e8_a94c_00e260c19defrow10_col7 {\n",
       "            background-color:  #fdae6b;\n",
       "        }    #T_cb300598_f274_11e8_a94c_00e260c19defrow10_col8 {\n",
       "            background-color:  #dadaeb;\n",
       "        }    #T_cb300598_f274_11e8_a94c_00e260c19defrow10_col9 {\n",
       "            background-color:  #d9d9d9;\n",
       "        }    #T_cb300598_f274_11e8_a94c_00e260c19defrow10_col10 {\n",
       "            background-color:  #d9d9d9;\n",
       "        }</style>  \n",
       "<table id=\"T_cb300598_f274_11e8_a94c_00e260c19def\" > \n",
       "<thead>    <tr> \n",
       "        <th class=\"blank level0\" ></th> \n",
       "        <th class=\"col_heading level0 col0\" >season</th> \n",
       "        <th class=\"col_heading level0 col1\" >holiday</th> \n",
       "        <th class=\"col_heading level0 col2\" >workingday</th> \n",
       "        <th class=\"col_heading level0 col3\" >weather</th> \n",
       "        <th class=\"col_heading level0 col4\" >temp</th> \n",
       "        <th class=\"col_heading level0 col5\" >atemp</th> \n",
       "        <th class=\"col_heading level0 col6\" >humidity</th> \n",
       "        <th class=\"col_heading level0 col7\" >windspeed</th> \n",
       "        <th class=\"col_heading level0 col8\" >casual</th> \n",
       "        <th class=\"col_heading level0 col9\" >registered</th> \n",
       "        <th class=\"col_heading level0 col10\" >count</th> \n",
       "    </tr></thead> \n",
       "<tbody>    <tr> \n",
       "        <th id=\"T_cb300598_f274_11e8_a94c_00e260c19deflevel0_row0\" class=\"row_heading level0 row0\" >season</th> \n",
       "        <td id=\"T_cb300598_f274_11e8_a94c_00e260c19defrow0_col0\" class=\"data row0 col0\" >1.0</td> \n",
       "        <td id=\"T_cb300598_f274_11e8_a94c_00e260c19defrow0_col1\" class=\"data row0 col1\" >0.029</td> \n",
       "        <td id=\"T_cb300598_f274_11e8_a94c_00e260c19defrow0_col2\" class=\"data row0 col2\" >-0.0081</td> \n",
       "        <td id=\"T_cb300598_f274_11e8_a94c_00e260c19defrow0_col3\" class=\"data row0 col3\" >0.0089</td> \n",
       "        <td id=\"T_cb300598_f274_11e8_a94c_00e260c19defrow0_col4\" class=\"data row0 col4\" >0.26</td> \n",
       "        <td id=\"T_cb300598_f274_11e8_a94c_00e260c19defrow0_col5\" class=\"data row0 col5\" >0.26</td> \n",
       "        <td id=\"T_cb300598_f274_11e8_a94c_00e260c19defrow0_col6\" class=\"data row0 col6\" >0.19</td> \n",
       "        <td id=\"T_cb300598_f274_11e8_a94c_00e260c19defrow0_col7\" class=\"data row0 col7\" >-0.15</td> \n",
       "        <td id=\"T_cb300598_f274_11e8_a94c_00e260c19defrow0_col8\" class=\"data row0 col8\" >0.097</td> \n",
       "        <td id=\"T_cb300598_f274_11e8_a94c_00e260c19defrow0_col9\" class=\"data row0 col9\" >0.16</td> \n",
       "        <td id=\"T_cb300598_f274_11e8_a94c_00e260c19defrow0_col10\" class=\"data row0 col10\" >0.16</td> \n",
       "    </tr>    <tr> \n",
       "        <th id=\"T_cb300598_f274_11e8_a94c_00e260c19deflevel0_row1\" class=\"row_heading level0 row1\" >holiday</th> \n",
       "        <td id=\"T_cb300598_f274_11e8_a94c_00e260c19defrow1_col0\" class=\"data row1 col0\" >0.029</td> \n",
       "        <td id=\"T_cb300598_f274_11e8_a94c_00e260c19defrow1_col1\" class=\"data row1 col1\" >1.0</td> \n",
       "        <td id=\"T_cb300598_f274_11e8_a94c_00e260c19defrow1_col2\" class=\"data row1 col2\" >-0.25</td> \n",
       "        <td id=\"T_cb300598_f274_11e8_a94c_00e260c19defrow1_col3\" class=\"data row1 col3\" >-0.0071</td> \n",
       "        <td id=\"T_cb300598_f274_11e8_a94c_00e260c19defrow1_col4\" class=\"data row1 col4\" >0.00029</td> \n",
       "        <td id=\"T_cb300598_f274_11e8_a94c_00e260c19defrow1_col5\" class=\"data row1 col5\" >-0.0052</td> \n",
       "        <td id=\"T_cb300598_f274_11e8_a94c_00e260c19defrow1_col6\" class=\"data row1 col6\" >0.0019</td> \n",
       "        <td id=\"T_cb300598_f274_11e8_a94c_00e260c19defrow1_col7\" class=\"data row1 col7\" >0.0084</td> \n",
       "        <td id=\"T_cb300598_f274_11e8_a94c_00e260c19defrow1_col8\" class=\"data row1 col8\" >0.044</td> \n",
       "        <td id=\"T_cb300598_f274_11e8_a94c_00e260c19defrow1_col9\" class=\"data row1 col9\" >-0.021</td> \n",
       "        <td id=\"T_cb300598_f274_11e8_a94c_00e260c19defrow1_col10\" class=\"data row1 col10\" >-0.0054</td> \n",
       "    </tr>    <tr> \n",
       "        <th id=\"T_cb300598_f274_11e8_a94c_00e260c19deflevel0_row2\" class=\"row_heading level0 row2\" >workingday</th> \n",
       "        <td id=\"T_cb300598_f274_11e8_a94c_00e260c19defrow2_col0\" class=\"data row2 col0\" >-0.0081</td> \n",
       "        <td id=\"T_cb300598_f274_11e8_a94c_00e260c19defrow2_col1\" class=\"data row2 col1\" >-0.25</td> \n",
       "        <td id=\"T_cb300598_f274_11e8_a94c_00e260c19defrow2_col2\" class=\"data row2 col2\" >1.0</td> \n",
       "        <td id=\"T_cb300598_f274_11e8_a94c_00e260c19defrow2_col3\" class=\"data row2 col3\" >0.034</td> \n",
       "        <td id=\"T_cb300598_f274_11e8_a94c_00e260c19defrow2_col4\" class=\"data row2 col4\" >0.03</td> \n",
       "        <td id=\"T_cb300598_f274_11e8_a94c_00e260c19defrow2_col5\" class=\"data row2 col5\" >0.025</td> \n",
       "        <td id=\"T_cb300598_f274_11e8_a94c_00e260c19defrow2_col6\" class=\"data row2 col6\" >-0.011</td> \n",
       "        <td id=\"T_cb300598_f274_11e8_a94c_00e260c19defrow2_col7\" class=\"data row2 col7\" >0.013</td> \n",
       "        <td id=\"T_cb300598_f274_11e8_a94c_00e260c19defrow2_col8\" class=\"data row2 col8\" >-0.32</td> \n",
       "        <td id=\"T_cb300598_f274_11e8_a94c_00e260c19defrow2_col9\" class=\"data row2 col9\" >0.12</td> \n",
       "        <td id=\"T_cb300598_f274_11e8_a94c_00e260c19defrow2_col10\" class=\"data row2 col10\" >0.012</td> \n",
       "    </tr>    <tr> \n",
       "        <th id=\"T_cb300598_f274_11e8_a94c_00e260c19deflevel0_row3\" class=\"row_heading level0 row3\" >weather</th> \n",
       "        <td id=\"T_cb300598_f274_11e8_a94c_00e260c19defrow3_col0\" class=\"data row3 col0\" >0.0089</td> \n",
       "        <td id=\"T_cb300598_f274_11e8_a94c_00e260c19defrow3_col1\" class=\"data row3 col1\" >-0.0071</td> \n",
       "        <td id=\"T_cb300598_f274_11e8_a94c_00e260c19defrow3_col2\" class=\"data row3 col2\" >0.034</td> \n",
       "        <td id=\"T_cb300598_f274_11e8_a94c_00e260c19defrow3_col3\" class=\"data row3 col3\" >1.0</td> \n",
       "        <td id=\"T_cb300598_f274_11e8_a94c_00e260c19defrow3_col4\" class=\"data row3 col4\" >-0.055</td> \n",
       "        <td id=\"T_cb300598_f274_11e8_a94c_00e260c19defrow3_col5\" class=\"data row3 col5\" >-0.055</td> \n",
       "        <td id=\"T_cb300598_f274_11e8_a94c_00e260c19defrow3_col6\" class=\"data row3 col6\" >0.41</td> \n",
       "        <td id=\"T_cb300598_f274_11e8_a94c_00e260c19defrow3_col7\" class=\"data row3 col7\" >0.0073</td> \n",
       "        <td id=\"T_cb300598_f274_11e8_a94c_00e260c19defrow3_col8\" class=\"data row3 col8\" >-0.14</td> \n",
       "        <td id=\"T_cb300598_f274_11e8_a94c_00e260c19defrow3_col9\" class=\"data row3 col9\" >-0.11</td> \n",
       "        <td id=\"T_cb300598_f274_11e8_a94c_00e260c19defrow3_col10\" class=\"data row3 col10\" >-0.13</td> \n",
       "    </tr>    <tr> \n",
       "        <th id=\"T_cb300598_f274_11e8_a94c_00e260c19deflevel0_row4\" class=\"row_heading level0 row4\" >temp</th> \n",
       "        <td id=\"T_cb300598_f274_11e8_a94c_00e260c19defrow4_col0\" class=\"data row4 col0\" >0.26</td> \n",
       "        <td id=\"T_cb300598_f274_11e8_a94c_00e260c19defrow4_col1\" class=\"data row4 col1\" >0.00029</td> \n",
       "        <td id=\"T_cb300598_f274_11e8_a94c_00e260c19defrow4_col2\" class=\"data row4 col2\" >0.03</td> \n",
       "        <td id=\"T_cb300598_f274_11e8_a94c_00e260c19defrow4_col3\" class=\"data row4 col3\" >-0.055</td> \n",
       "        <td id=\"T_cb300598_f274_11e8_a94c_00e260c19defrow4_col4\" class=\"data row4 col4\" >1.0</td> \n",
       "        <td id=\"T_cb300598_f274_11e8_a94c_00e260c19defrow4_col5\" class=\"data row4 col5\" >0.98</td> \n",
       "        <td id=\"T_cb300598_f274_11e8_a94c_00e260c19defrow4_col6\" class=\"data row4 col6\" >-0.065</td> \n",
       "        <td id=\"T_cb300598_f274_11e8_a94c_00e260c19defrow4_col7\" class=\"data row4 col7\" >-0.018</td> \n",
       "        <td id=\"T_cb300598_f274_11e8_a94c_00e260c19defrow4_col8\" class=\"data row4 col8\" >0.47</td> \n",
       "        <td id=\"T_cb300598_f274_11e8_a94c_00e260c19defrow4_col9\" class=\"data row4 col9\" >0.32</td> \n",
       "        <td id=\"T_cb300598_f274_11e8_a94c_00e260c19defrow4_col10\" class=\"data row4 col10\" >0.39</td> \n",
       "    </tr>    <tr> \n",
       "        <th id=\"T_cb300598_f274_11e8_a94c_00e260c19deflevel0_row5\" class=\"row_heading level0 row5\" >atemp</th> \n",
       "        <td id=\"T_cb300598_f274_11e8_a94c_00e260c19defrow5_col0\" class=\"data row5 col0\" >0.26</td> \n",
       "        <td id=\"T_cb300598_f274_11e8_a94c_00e260c19defrow5_col1\" class=\"data row5 col1\" >-0.0052</td> \n",
       "        <td id=\"T_cb300598_f274_11e8_a94c_00e260c19defrow5_col2\" class=\"data row5 col2\" >0.025</td> \n",
       "        <td id=\"T_cb300598_f274_11e8_a94c_00e260c19defrow5_col3\" class=\"data row5 col3\" >-0.055</td> \n",
       "        <td id=\"T_cb300598_f274_11e8_a94c_00e260c19defrow5_col4\" class=\"data row5 col4\" >0.98</td> \n",
       "        <td id=\"T_cb300598_f274_11e8_a94c_00e260c19defrow5_col5\" class=\"data row5 col5\" >1.0</td> \n",
       "        <td id=\"T_cb300598_f274_11e8_a94c_00e260c19defrow5_col6\" class=\"data row5 col6\" >-0.044</td> \n",
       "        <td id=\"T_cb300598_f274_11e8_a94c_00e260c19defrow5_col7\" class=\"data row5 col7\" >-0.057</td> \n",
       "        <td id=\"T_cb300598_f274_11e8_a94c_00e260c19defrow5_col8\" class=\"data row5 col8\" >0.46</td> \n",
       "        <td id=\"T_cb300598_f274_11e8_a94c_00e260c19defrow5_col9\" class=\"data row5 col9\" >0.31</td> \n",
       "        <td id=\"T_cb300598_f274_11e8_a94c_00e260c19defrow5_col10\" class=\"data row5 col10\" >0.39</td> \n",
       "    </tr>    <tr> \n",
       "        <th id=\"T_cb300598_f274_11e8_a94c_00e260c19deflevel0_row6\" class=\"row_heading level0 row6\" >humidity</th> \n",
       "        <td id=\"T_cb300598_f274_11e8_a94c_00e260c19defrow6_col0\" class=\"data row6 col0\" >0.19</td> \n",
       "        <td id=\"T_cb300598_f274_11e8_a94c_00e260c19defrow6_col1\" class=\"data row6 col1\" >0.0019</td> \n",
       "        <td id=\"T_cb300598_f274_11e8_a94c_00e260c19defrow6_col2\" class=\"data row6 col2\" >-0.011</td> \n",
       "        <td id=\"T_cb300598_f274_11e8_a94c_00e260c19defrow6_col3\" class=\"data row6 col3\" >0.41</td> \n",
       "        <td id=\"T_cb300598_f274_11e8_a94c_00e260c19defrow6_col4\" class=\"data row6 col4\" >-0.065</td> \n",
       "        <td id=\"T_cb300598_f274_11e8_a94c_00e260c19defrow6_col5\" class=\"data row6 col5\" >-0.044</td> \n",
       "        <td id=\"T_cb300598_f274_11e8_a94c_00e260c19defrow6_col6\" class=\"data row6 col6\" >1.0</td> \n",
       "        <td id=\"T_cb300598_f274_11e8_a94c_00e260c19defrow6_col7\" class=\"data row6 col7\" >-0.32</td> \n",
       "        <td id=\"T_cb300598_f274_11e8_a94c_00e260c19defrow6_col8\" class=\"data row6 col8\" >-0.35</td> \n",
       "        <td id=\"T_cb300598_f274_11e8_a94c_00e260c19defrow6_col9\" class=\"data row6 col9\" >-0.27</td> \n",
       "        <td id=\"T_cb300598_f274_11e8_a94c_00e260c19defrow6_col10\" class=\"data row6 col10\" >-0.32</td> \n",
       "    </tr>    <tr> \n",
       "        <th id=\"T_cb300598_f274_11e8_a94c_00e260c19deflevel0_row7\" class=\"row_heading level0 row7\" >windspeed</th> \n",
       "        <td id=\"T_cb300598_f274_11e8_a94c_00e260c19defrow7_col0\" class=\"data row7 col0\" >-0.15</td> \n",
       "        <td id=\"T_cb300598_f274_11e8_a94c_00e260c19defrow7_col1\" class=\"data row7 col1\" >0.0084</td> \n",
       "        <td id=\"T_cb300598_f274_11e8_a94c_00e260c19defrow7_col2\" class=\"data row7 col2\" >0.013</td> \n",
       "        <td id=\"T_cb300598_f274_11e8_a94c_00e260c19defrow7_col3\" class=\"data row7 col3\" >0.0073</td> \n",
       "        <td id=\"T_cb300598_f274_11e8_a94c_00e260c19defrow7_col4\" class=\"data row7 col4\" >-0.018</td> \n",
       "        <td id=\"T_cb300598_f274_11e8_a94c_00e260c19defrow7_col5\" class=\"data row7 col5\" >-0.057</td> \n",
       "        <td id=\"T_cb300598_f274_11e8_a94c_00e260c19defrow7_col6\" class=\"data row7 col6\" >-0.32</td> \n",
       "        <td id=\"T_cb300598_f274_11e8_a94c_00e260c19defrow7_col7\" class=\"data row7 col7\" >1.0</td> \n",
       "        <td id=\"T_cb300598_f274_11e8_a94c_00e260c19defrow7_col8\" class=\"data row7 col8\" >0.092</td> \n",
       "        <td id=\"T_cb300598_f274_11e8_a94c_00e260c19defrow7_col9\" class=\"data row7 col9\" >0.091</td> \n",
       "        <td id=\"T_cb300598_f274_11e8_a94c_00e260c19defrow7_col10\" class=\"data row7 col10\" >0.1</td> \n",
       "    </tr>    <tr> \n",
       "        <th id=\"T_cb300598_f274_11e8_a94c_00e260c19deflevel0_row8\" class=\"row_heading level0 row8\" >casual</th> \n",
       "        <td id=\"T_cb300598_f274_11e8_a94c_00e260c19defrow8_col0\" class=\"data row8 col0\" >0.097</td> \n",
       "        <td id=\"T_cb300598_f274_11e8_a94c_00e260c19defrow8_col1\" class=\"data row8 col1\" >0.044</td> \n",
       "        <td id=\"T_cb300598_f274_11e8_a94c_00e260c19defrow8_col2\" class=\"data row8 col2\" >-0.32</td> \n",
       "        <td id=\"T_cb300598_f274_11e8_a94c_00e260c19defrow8_col3\" class=\"data row8 col3\" >-0.14</td> \n",
       "        <td id=\"T_cb300598_f274_11e8_a94c_00e260c19defrow8_col4\" class=\"data row8 col4\" >0.47</td> \n",
       "        <td id=\"T_cb300598_f274_11e8_a94c_00e260c19defrow8_col5\" class=\"data row8 col5\" >0.46</td> \n",
       "        <td id=\"T_cb300598_f274_11e8_a94c_00e260c19defrow8_col6\" class=\"data row8 col6\" >-0.35</td> \n",
       "        <td id=\"T_cb300598_f274_11e8_a94c_00e260c19defrow8_col7\" class=\"data row8 col7\" >0.092</td> \n",
       "        <td id=\"T_cb300598_f274_11e8_a94c_00e260c19defrow8_col8\" class=\"data row8 col8\" >1.0</td> \n",
       "        <td id=\"T_cb300598_f274_11e8_a94c_00e260c19defrow8_col9\" class=\"data row8 col9\" >0.5</td> \n",
       "        <td id=\"T_cb300598_f274_11e8_a94c_00e260c19defrow8_col10\" class=\"data row8 col10\" >0.69</td> \n",
       "    </tr>    <tr> \n",
       "        <th id=\"T_cb300598_f274_11e8_a94c_00e260c19deflevel0_row9\" class=\"row_heading level0 row9\" >registered</th> \n",
       "        <td id=\"T_cb300598_f274_11e8_a94c_00e260c19defrow9_col0\" class=\"data row9 col0\" >0.16</td> \n",
       "        <td id=\"T_cb300598_f274_11e8_a94c_00e260c19defrow9_col1\" class=\"data row9 col1\" >-0.021</td> \n",
       "        <td id=\"T_cb300598_f274_11e8_a94c_00e260c19defrow9_col2\" class=\"data row9 col2\" >0.12</td> \n",
       "        <td id=\"T_cb300598_f274_11e8_a94c_00e260c19defrow9_col3\" class=\"data row9 col3\" >-0.11</td> \n",
       "        <td id=\"T_cb300598_f274_11e8_a94c_00e260c19defrow9_col4\" class=\"data row9 col4\" >0.32</td> \n",
       "        <td id=\"T_cb300598_f274_11e8_a94c_00e260c19defrow9_col5\" class=\"data row9 col5\" >0.31</td> \n",
       "        <td id=\"T_cb300598_f274_11e8_a94c_00e260c19defrow9_col6\" class=\"data row9 col6\" >-0.27</td> \n",
       "        <td id=\"T_cb300598_f274_11e8_a94c_00e260c19defrow9_col7\" class=\"data row9 col7\" >0.091</td> \n",
       "        <td id=\"T_cb300598_f274_11e8_a94c_00e260c19defrow9_col8\" class=\"data row9 col8\" >0.5</td> \n",
       "        <td id=\"T_cb300598_f274_11e8_a94c_00e260c19defrow9_col9\" class=\"data row9 col9\" >1.0</td> \n",
       "        <td id=\"T_cb300598_f274_11e8_a94c_00e260c19defrow9_col10\" class=\"data row9 col10\" >0.97</td> \n",
       "    </tr>    <tr> \n",
       "        <th id=\"T_cb300598_f274_11e8_a94c_00e260c19deflevel0_row10\" class=\"row_heading level0 row10\" >count</th> \n",
       "        <td id=\"T_cb300598_f274_11e8_a94c_00e260c19defrow10_col0\" class=\"data row10 col0\" >0.16</td> \n",
       "        <td id=\"T_cb300598_f274_11e8_a94c_00e260c19defrow10_col1\" class=\"data row10 col1\" >-0.0054</td> \n",
       "        <td id=\"T_cb300598_f274_11e8_a94c_00e260c19defrow10_col2\" class=\"data row10 col2\" >0.012</td> \n",
       "        <td id=\"T_cb300598_f274_11e8_a94c_00e260c19defrow10_col3\" class=\"data row10 col3\" >-0.13</td> \n",
       "        <td id=\"T_cb300598_f274_11e8_a94c_00e260c19defrow10_col4\" class=\"data row10 col4\" >0.39</td> \n",
       "        <td id=\"T_cb300598_f274_11e8_a94c_00e260c19defrow10_col5\" class=\"data row10 col5\" >0.39</td> \n",
       "        <td id=\"T_cb300598_f274_11e8_a94c_00e260c19defrow10_col6\" class=\"data row10 col6\" >-0.32</td> \n",
       "        <td id=\"T_cb300598_f274_11e8_a94c_00e260c19defrow10_col7\" class=\"data row10 col7\" >0.1</td> \n",
       "        <td id=\"T_cb300598_f274_11e8_a94c_00e260c19defrow10_col8\" class=\"data row10 col8\" >0.69</td> \n",
       "        <td id=\"T_cb300598_f274_11e8_a94c_00e260c19defrow10_col9\" class=\"data row10 col9\" >0.97</td> \n",
       "        <td id=\"T_cb300598_f274_11e8_a94c_00e260c19defrow10_col10\" class=\"data row10 col10\" >1.0</td> \n",
       "    </tr></tbody> \n",
       "</table> "
      ],
      "text/plain": [
       "<pandas.io.formats.style.Styler at 0xcdd1ac8>"
      ]
     },
     "execution_count": 19,
     "metadata": {},
     "output_type": "execute_result"
    }
   ],
   "source": [
    "# 모든 feature값의 상관계수 알기 : 별... 상관 없다.... \n",
    "df_train.corr().style.format(\"{:.2}\").background_gradient(cmap=plt.get_cmap('tab20c'), axis=1)"
   ]
  },
  {
   "cell_type": "markdown",
   "metadata": {},
   "source": [
    "## datetime 피쳐값을 년,월,시간으로 뽀개기"
   ]
  },
  {
   "cell_type": "code",
   "execution_count": 20,
   "metadata": {},
   "outputs": [
    {
     "data": {
      "text/plain": [
       "(10886, 18)"
      ]
     },
     "execution_count": 20,
     "metadata": {},
     "output_type": "execute_result"
    }
   ],
   "source": [
    "# 듀란듀란! 날짜 뽀개기\n",
    "df_train[\"year\"] = df_train[\"datetime\"].dt.year\n",
    "df_train[\"month\"] = df_train[\"datetime\"].dt.month\n",
    "df_train[\"day\"] = df_train[\"datetime\"].dt.day\n",
    "df_train[\"hour\"] = df_train[\"datetime\"].dt.hour\n",
    "df_train[\"minute\"] = df_train[\"datetime\"].dt.minute\n",
    "df_train[\"second\"] = df_train[\"datetime\"].dt.second\n",
    "df_train.shape"
   ]
  },
  {
   "cell_type": "code",
   "execution_count": 21,
   "metadata": {},
   "outputs": [],
   "source": [
    "# df_train.head(20)"
   ]
  },
  {
   "cell_type": "markdown",
   "metadata": {},
   "source": [
    "## 피쳐값 조정을 위해 모든 변수 *시.각.화* 하자구욧!!!"
   ]
  },
  {
   "cell_type": "code",
   "execution_count": 22,
   "metadata": {},
   "outputs": [
    {
     "data": {
      "text/plain": [
       "[Text(0.5,0,'hour'), Text(0.5,1,'시간별 대여량')]"
      ]
     },
     "execution_count": 22,
     "metadata": {},
     "output_type": "execute_result"
    },
    {
     "data": {
      "image/png": "[encoded data removed]",
      "text/plain": [
       "<Figure size 1296x576 with 6 Axes>"
      ]
     },
     "metadata": {},
     "output_type": "display_data"
    }
   ],
   "source": [
    "import seaborn as sns\n",
    "figure, ((ax1,ax2,ax3), (ax4,ax5,ax6)) = plt.subplots(nrows=2, ncols=3)\n",
    "figure.set_size_inches(18,8)\n",
    "\n",
    "sns.barplot(data=df_train, x=\"year\", y=\"count\", ax=ax1)\n",
    "sns.barplot(data=df_train, x=\"month\", y=\"count\", ax=ax2)\n",
    "sns.barplot(data=df_train, x=\"day\", y=\"count\", ax=ax3)\n",
    "sns.barplot(data=df_train, x=\"hour\", y=\"count\", ax=ax4)\n",
    "sns.barplot(data=df_train, x=\"minute\", y=\"count\", ax=ax5)\n",
    "sns.barplot(data=df_train, x=\"second\", y=\"count\", ax=ax6)\n",
    "\n",
    "ax1.set(ylabel='Count',title=\"연도별 대여량\")\n",
    "ax2.set(xlabel='month',title=\"월별 대여량\")\n",
    "ax3.set(xlabel='day', title=\"일별 대여량\")\n",
    "ax4.set(xlabel='hour', title=\"시간별 대여량\")"
   ]
  },
  {
   "cell_type": "code",
   "execution_count": 23,
   "metadata": {},
   "outputs": [
    {
     "data": {
      "text/plain": [
       "Index(['datetime', 'season', 'holiday', 'workingday', 'weather', 'temp',\n",
       "       'atemp', 'humidity', 'windspeed', 'casual', 'registered', 'count',\n",
       "       'year', 'month', 'day', 'hour', 'minute', 'second'],\n",
       "      dtype='object')"
      ]
     },
     "execution_count": 23,
     "metadata": {},
     "output_type": "execute_result"
    }
   ],
   "source": [
    "df_train.columns"
   ]
  },
  {
   "cell_type": "code",
   "execution_count": 24,
   "metadata": {},
   "outputs": [
    {
     "name": "stdout",
     "output_type": "stream",
     "text": [
      "<class 'pandas.core.frame.DataFrame'>\n",
      "RangeIndex: 10886 entries, 0 to 10885\n",
      "Data columns (total 18 columns):\n",
      "datetime      10886 non-null datetime64[ns]\n",
      "season        10886 non-null int64\n",
      "holiday       10886 non-null int64\n",
      "workingday    10886 non-null int64\n",
      "weather       10886 non-null int64\n",
      "temp          10886 non-null float64\n",
      "atemp         10886 non-null float64\n",
      "humidity      10886 non-null int64\n",
      "windspeed     10886 non-null float64\n",
      "casual        10886 non-null int64\n",
      "registered    10886 non-null int64\n",
      "count         10886 non-null int64\n",
      "year          10886 non-null int64\n",
      "month         10886 non-null int64\n",
      "day           10886 non-null int64\n",
      "hour          10886 non-null int64\n",
      "minute        10886 non-null int64\n",
      "second        10886 non-null int64\n",
      "dtypes: datetime64[ns](1), float64(3), int64(14)\n",
      "memory usage: 1.5 MB\n"
     ]
    }
   ],
   "source": [
    "df_train.info()"
   ]
  },
  {
   "cell_type": "code",
   "execution_count": 38,
   "metadata": {},
   "outputs": [
    {
     "data": {
      "text/html": [
       "<div>\n",
       "<style scoped>\n",
       "    .dataframe tbody tr th:only-of-type {\n",
       "        vertical-align: middle;\n",
       "    }\n",
       "\n",
       "    .dataframe tbody tr th {\n",
       "        vertical-align: top;\n",
       "    }\n",
       "\n",
       "    .dataframe thead th {\n",
       "        text-align: right;\n",
       "    }\n",
       "</style>\n",
       "<table border=\"1\" class=\"dataframe\">\n",
       "  <thead>\n",
       "    <tr style=\"text-align: right;\">\n",
       "      <th></th>\n",
       "      <th>datetime</th>\n",
       "      <th>season</th>\n",
       "      <th>holiday</th>\n",
       "      <th>workingday</th>\n",
       "      <th>weather</th>\n",
       "      <th>temp</th>\n",
       "      <th>atemp</th>\n",
       "      <th>humidity</th>\n",
       "      <th>windspeed</th>\n",
       "      <th>casual</th>\n",
       "      <th>registered</th>\n",
       "      <th>count</th>\n",
       "      <th>year</th>\n",
       "      <th>month</th>\n",
       "      <th>day</th>\n",
       "      <th>hour</th>\n",
       "      <th>minute</th>\n",
       "      <th>second</th>\n",
       "    </tr>\n",
       "  </thead>\n",
       "  <tbody>\n",
       "    <tr>\n",
       "      <th>0</th>\n",
       "      <td>2011-01-01 00:00:00</td>\n",
       "      <td>1</td>\n",
       "      <td>0</td>\n",
       "      <td>0</td>\n",
       "      <td>1</td>\n",
       "      <td>9.84</td>\n",
       "      <td>14.395</td>\n",
       "      <td>81</td>\n",
       "      <td>0.0</td>\n",
       "      <td>3</td>\n",
       "      <td>13</td>\n",
       "      <td>16</td>\n",
       "      <td>2011</td>\n",
       "      <td>1</td>\n",
       "      <td>1</td>\n",
       "      <td>0</td>\n",
       "      <td>0</td>\n",
       "      <td>0</td>\n",
       "    </tr>\n",
       "    <tr>\n",
       "      <th>1</th>\n",
       "      <td>2011-01-01 01:00:00</td>\n",
       "      <td>1</td>\n",
       "      <td>0</td>\n",
       "      <td>0</td>\n",
       "      <td>1</td>\n",
       "      <td>9.02</td>\n",
       "      <td>13.635</td>\n",
       "      <td>80</td>\n",
       "      <td>0.0</td>\n",
       "      <td>8</td>\n",
       "      <td>32</td>\n",
       "      <td>40</td>\n",
       "      <td>2011</td>\n",
       "      <td>1</td>\n",
       "      <td>1</td>\n",
       "      <td>1</td>\n",
       "      <td>0</td>\n",
       "      <td>0</td>\n",
       "    </tr>\n",
       "    <tr>\n",
       "      <th>2</th>\n",
       "      <td>2011-01-01 02:00:00</td>\n",
       "      <td>1</td>\n",
       "      <td>0</td>\n",
       "      <td>0</td>\n",
       "      <td>1</td>\n",
       "      <td>9.02</td>\n",
       "      <td>13.635</td>\n",
       "      <td>80</td>\n",
       "      <td>0.0</td>\n",
       "      <td>5</td>\n",
       "      <td>27</td>\n",
       "      <td>32</td>\n",
       "      <td>2011</td>\n",
       "      <td>1</td>\n",
       "      <td>1</td>\n",
       "      <td>2</td>\n",
       "      <td>0</td>\n",
       "      <td>0</td>\n",
       "    </tr>\n",
       "    <tr>\n",
       "      <th>3</th>\n",
       "      <td>2011-01-01 03:00:00</td>\n",
       "      <td>1</td>\n",
       "      <td>0</td>\n",
       "      <td>0</td>\n",
       "      <td>1</td>\n",
       "      <td>9.84</td>\n",
       "      <td>14.395</td>\n",
       "      <td>75</td>\n",
       "      <td>0.0</td>\n",
       "      <td>3</td>\n",
       "      <td>10</td>\n",
       "      <td>13</td>\n",
       "      <td>2011</td>\n",
       "      <td>1</td>\n",
       "      <td>1</td>\n",
       "      <td>3</td>\n",
       "      <td>0</td>\n",
       "      <td>0</td>\n",
       "    </tr>\n",
       "    <tr>\n",
       "      <th>4</th>\n",
       "      <td>2011-01-01 04:00:00</td>\n",
       "      <td>1</td>\n",
       "      <td>0</td>\n",
       "      <td>0</td>\n",
       "      <td>1</td>\n",
       "      <td>9.84</td>\n",
       "      <td>14.395</td>\n",
       "      <td>75</td>\n",
       "      <td>0.0</td>\n",
       "      <td>0</td>\n",
       "      <td>1</td>\n",
       "      <td>1</td>\n",
       "      <td>2011</td>\n",
       "      <td>1</td>\n",
       "      <td>1</td>\n",
       "      <td>4</td>\n",
       "      <td>0</td>\n",
       "      <td>0</td>\n",
       "    </tr>\n",
       "  </tbody>\n",
       "</table>\n",
       "</div>"
      ],
      "text/plain": [
       "             datetime  season  holiday  workingday  weather  temp   atemp  \\\n",
       "0 2011-01-01 00:00:00       1        0           0        1  9.84  14.395   \n",
       "1 2011-01-01 01:00:00       1        0           0        1  9.02  13.635   \n",
       "2 2011-01-01 02:00:00       1        0           0        1  9.02  13.635   \n",
       "3 2011-01-01 03:00:00       1        0           0        1  9.84  14.395   \n",
       "4 2011-01-01 04:00:00       1        0           0        1  9.84  14.395   \n",
       "\n",
       "   humidity  windspeed  casual  registered  count  year  month  day  hour  \\\n",
       "0        81        0.0       3          13     16  2011      1    1     0   \n",
       "1        80        0.0       8          32     40  2011      1    1     1   \n",
       "2        80        0.0       5          27     32  2011      1    1     2   \n",
       "3        75        0.0       3          10     13  2011      1    1     3   \n",
       "4        75        0.0       0           1      1  2011      1    1     4   \n",
       "\n",
       "   minute  second  \n",
       "0       0       0  \n",
       "1       0       0  \n",
       "2       0       0  \n",
       "3       0       0  \n",
       "4       0       0  "
      ]
     },
     "execution_count": 38,
     "metadata": {},
     "output_type": "execute_result"
    }
   ],
   "source": [
    "df_train.head()"
   ]
  },
  {
   "cell_type": "code",
   "execution_count": 44,
   "metadata": {},
   "outputs": [
    {
     "data": {
      "text/plain": [
       "1     575\n",
       "9     575\n",
       "5     575\n",
       "17    575\n",
       "15    574\n",
       "19    574\n",
       "16    574\n",
       "7     574\n",
       "8     574\n",
       "4     574\n",
       "13    574\n",
       "14    574\n",
       "3     573\n",
       "2     573\n",
       "12    573\n",
       "10    572\n",
       "6     572\n",
       "11    568\n",
       "18    563\n",
       "Name: day, dtype: int64"
      ]
     },
     "execution_count": 44,
     "metadata": {},
     "output_type": "execute_result"
    }
   ],
   "source": [
    "df_train['day'].value_counts()\n",
    "# pd.Series(df_train['day'])"
   ]
  },
  {
   "cell_type": "code",
   "execution_count": 43,
   "metadata": {},
   "outputs": [
    {
     "data": {
      "text/plain": [
       "10886"
      ]
     },
     "execution_count": 43,
     "metadata": {},
     "output_type": "execute_result"
    }
   ],
   "source": [
    "df_train['day'].count()"
   ]
  },
  {
   "cell_type": "code",
   "execution_count": 45,
   "metadata": {},
   "outputs": [
    {
     "data": {
      "text/plain": [
       "572.9473684210526"
      ]
     },
     "execution_count": 45,
     "metadata": {},
     "output_type": "execute_result"
    }
   ],
   "source": [
    "10886/19"
   ]
  },
  {
   "cell_type": "code",
   "execution_count": 54,
   "metadata": {},
   "outputs": [],
   "source": [
    "train_day=df_train['day'].value_counts()\n",
    "df_day=pd.DataFrame(train_day)\n",
    "# df_day\n",
    "# df_day.sort_values"
   ]
  },
  {
   "cell_type": "code",
   "execution_count": 55,
   "metadata": {},
   "outputs": [
    {
     "data": {
      "text/plain": [
       "Index(['day'], dtype='object')"
      ]
     },
     "execution_count": 55,
     "metadata": {},
     "output_type": "execute_result"
    }
   ],
   "source": [
    "df_day.columns"
   ]
  },
  {
   "cell_type": "code",
   "execution_count": 58,
   "metadata": {},
   "outputs": [
    {
     "data": {
      "text/plain": [
       "(572.9473684210526, 8.385964912280704)"
      ]
     },
     "execution_count": 58,
     "metadata": {},
     "output_type": "execute_result"
    }
   ],
   "source": [
    "df_day['day'].mean(), df_day['day'].var()"
   ]
  },
  {
   "cell_type": "code",
   "execution_count": 61,
   "metadata": {},
   "outputs": [
    {
     "data": {
      "text/plain": [
       "array([572.0071211 , 571.89322418, 572.62920527, 573.71708943,\n",
       "       572.7913197 , 574.30555918, 573.08023262, 570.7171781 ,\n",
       "       573.26187178, 573.48412726, 574.33232928, 571.74550932])"
      ]
     },
     "execution_count": 61,
     "metadata": {},
     "output_type": "execute_result"
    }
   ],
   "source": [
    "np.random.normal(df_day['day'].mean(), 1, 12)"
   ]
  },
  {
   "cell_type": "code",
   "execution_count": null,
   "metadata": {},
   "outputs": [],
   "source": []
  },
  {
   "cell_type": "code",
   "execution_count": null,
   "metadata": {},
   "outputs": [],
   "source": []
  },
  {
   "cell_type": "code",
   "execution_count": 30,
   "metadata": {},
   "outputs": [
    {
     "data": {
      "text/plain": [
       "<bound method IndexOpsMixin.value_counts of 0         1\n",
       "1         1\n",
       "2         1\n",
       "3         1\n",
       "4         1\n",
       "5         1\n",
       "6         1\n",
       "7         1\n",
       "8         1\n",
       "9         1\n",
       "10        1\n",
       "11        1\n",
       "12        1\n",
       "13        1\n",
       "14        1\n",
       "15        1\n",
       "16        1\n",
       "17        1\n",
       "18        1\n",
       "19        1\n",
       "20        1\n",
       "21        1\n",
       "22        1\n",
       "23        1\n",
       "24        2\n",
       "25        2\n",
       "26        2\n",
       "27        2\n",
       "28        2\n",
       "29        2\n",
       "         ..\n",
       "10856    18\n",
       "10857    18\n",
       "10858    18\n",
       "10859    18\n",
       "10860    18\n",
       "10861    18\n",
       "10862    19\n",
       "10863    19\n",
       "10864    19\n",
       "10865    19\n",
       "10866    19\n",
       "10867    19\n",
       "10868    19\n",
       "10869    19\n",
       "10870    19\n",
       "10871    19\n",
       "10872    19\n",
       "10873    19\n",
       "10874    19\n",
       "10875    19\n",
       "10876    19\n",
       "10877    19\n",
       "10878    19\n",
       "10879    19\n",
       "10880    19\n",
       "10881    19\n",
       "10882    19\n",
       "10883    19\n",
       "10884    19\n",
       "10885    19\n",
       "Name: day, Length: 10886, dtype: int64>"
      ]
     },
     "execution_count": 30,
     "metadata": {},
     "output_type": "execute_result"
    }
   ],
   "source": [
    "df_train['day'].value_counts"
   ]
  },
  {
   "cell_type": "code",
   "execution_count": null,
   "metadata": {},
   "outputs": [],
   "source": []
  },
  {
   "cell_type": "code",
   "execution_count": null,
   "metadata": {},
   "outputs": [],
   "source": []
  },
  {
   "cell_type": "markdown",
   "metadata": {},
   "source": [
    "# 따르릉"
   ]
  },
  {
   "cell_type": "code",
   "execution_count": 26,
   "metadata": {},
   "outputs": [
    {
     "data": {
      "text/plain": [
       "(6493, 9)"
      ]
     },
     "execution_count": 26,
     "metadata": {},
     "output_type": "execute_result"
    }
   ],
   "source": [
    "df_test = pd.read_csv('./data/bikesharing_test.csv',parse_dates=[\"datetime\"],encoding = 'utf-8')\n",
    "df_test.shape"
   ]
  },
  {
   "cell_type": "code",
   "execution_count": 27,
   "metadata": {},
   "outputs": [
    {
     "data": {
      "text/plain": [
       "(6493, 15)"
      ]
     },
     "execution_count": 27,
     "metadata": {},
     "output_type": "execute_result"
    }
   ],
   "source": [
    "# 듀란듀란! 날짜 뽀개기\n",
    "df_test[\"year\"] = df_test[\"datetime\"].dt.year\n",
    "df_test[\"month\"] = df_test[\"datetime\"].dt.month\n",
    "df_test[\"day\"] = df_test[\"datetime\"].dt.day\n",
    "df_test[\"hour\"] = df_test[\"datetime\"].dt.hour\n",
    "df_test[\"minute\"] = df_test[\"datetime\"].dt.minute\n",
    "df_test[\"second\"] = df_test[\"datetime\"].dt.second\n",
    "df_test.shape"
   ]
  },
  {
   "cell_type": "code",
   "execution_count": 28,
   "metadata": {},
   "outputs": [
    {
     "data": {
      "text/plain": [
       "<bound method Series.unique of 0       20\n",
       "1       20\n",
       "2       20\n",
       "3       20\n",
       "4       20\n",
       "5       20\n",
       "6       20\n",
       "7       20\n",
       "8       20\n",
       "9       20\n",
       "10      20\n",
       "11      20\n",
       "12      20\n",
       "13      20\n",
       "14      20\n",
       "15      20\n",
       "16      20\n",
       "17      20\n",
       "18      20\n",
       "19      20\n",
       "20      20\n",
       "21      20\n",
       "22      20\n",
       "23      20\n",
       "24      21\n",
       "25      21\n",
       "26      21\n",
       "27      21\n",
       "28      21\n",
       "29      21\n",
       "        ..\n",
       "6463    30\n",
       "6464    30\n",
       "6465    30\n",
       "6466    30\n",
       "6467    30\n",
       "6468    30\n",
       "6469    31\n",
       "6470    31\n",
       "6471    31\n",
       "6472    31\n",
       "6473    31\n",
       "6474    31\n",
       "6475    31\n",
       "6476    31\n",
       "6477    31\n",
       "6478    31\n",
       "6479    31\n",
       "6480    31\n",
       "6481    31\n",
       "6482    31\n",
       "6483    31\n",
       "6484    31\n",
       "6485    31\n",
       "6486    31\n",
       "6487    31\n",
       "6488    31\n",
       "6489    31\n",
       "6490    31\n",
       "6491    31\n",
       "6492    31\n",
       "Name: day, Length: 6493, dtype: int64>"
      ]
     },
     "execution_count": 28,
     "metadata": {},
     "output_type": "execute_result"
    }
   ],
   "source": [
    "df_test['day'].unique"
   ]
  },
  {
   "cell_type": "code",
   "execution_count": null,
   "metadata": {},
   "outputs": [],
   "source": []
  }
 ],
 "metadata": {
  "kernelspec": {
   "display_name": "Python 3",
   "language": "python",
   "name": "python3"
  },
  "language_info": {
   "codemirror_mode": {
    "name": "ipython",
    "version": 3
   },
   "file_extension": ".py",
   "mimetype": "text/x-python",
   "name": "python",
   "nbconvert_exporter": "python",
   "pygments_lexer": "ipython3",
   "version": "3.6.5"
  }
 },
 "nbformat": 4,
 "nbformat_minor": 2
}
