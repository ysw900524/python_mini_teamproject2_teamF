{
 "cells": [
  {
   "cell_type": "code",
   "execution_count": 72,
   "metadata": {},
   "outputs": [],
   "source": [
    "import pandas as pd\n",
    "from datetime import datetime\n",
    "import time"
   ]
  },
  {
   "cell_type": "code",
   "execution_count": 23,
   "metadata": {},
   "outputs": [],
   "source": [
    "tmp2 = pd.read_csv('./team_project_2/basic_dataset/SanFrancisco_Crime_Classification/train.csv', sep=',', encoding='euc-kr')"
   ]
  },
  {
   "cell_type": "code",
   "execution_count": 24,
   "metadata": {},
   "outputs": [
    {
     "data": {
      "text/html": [
       "<div>\n",
       "<style scoped>\n",
       "    .dataframe tbody tr th:only-of-type {\n",
       "        vertical-align: middle;\n",
       "    }\n",
       "\n",
       "    .dataframe tbody tr th {\n",
       "        vertical-align: top;\n",
       "    }\n",
       "\n",
       "    .dataframe thead th {\n",
       "        text-align: right;\n",
       "    }\n",
       "</style>\n",
       "<table border=\"1\" class=\"dataframe\">\n",
       "  <thead>\n",
       "    <tr style=\"text-align: right;\">\n",
       "      <th></th>\n",
       "      <th>Dates</th>\n",
       "      <th>Category</th>\n",
       "      <th>Descript</th>\n",
       "      <th>DayOfWeek</th>\n",
       "      <th>PdDistrict</th>\n",
       "      <th>Resolution</th>\n",
       "      <th>Address</th>\n",
       "      <th>X</th>\n",
       "      <th>Y</th>\n",
       "    </tr>\n",
       "  </thead>\n",
       "  <tbody>\n",
       "    <tr>\n",
       "      <th>0</th>\n",
       "      <td>2015-05-13 23:53:00</td>\n",
       "      <td>WARRANTS</td>\n",
       "      <td>WARRANT ARREST</td>\n",
       "      <td>Wednesday</td>\n",
       "      <td>NORTHERN</td>\n",
       "      <td>ARREST, BOOKED</td>\n",
       "      <td>OAK ST / LAGUNA ST</td>\n",
       "      <td>-122.425892</td>\n",
       "      <td>37.774599</td>\n",
       "    </tr>\n",
       "    <tr>\n",
       "      <th>1</th>\n",
       "      <td>2015-05-13 23:53:00</td>\n",
       "      <td>OTHER OFFENSES</td>\n",
       "      <td>TRAFFIC VIOLATION ARREST</td>\n",
       "      <td>Wednesday</td>\n",
       "      <td>NORTHERN</td>\n",
       "      <td>ARREST, BOOKED</td>\n",
       "      <td>OAK ST / LAGUNA ST</td>\n",
       "      <td>-122.425892</td>\n",
       "      <td>37.774599</td>\n",
       "    </tr>\n",
       "    <tr>\n",
       "      <th>2</th>\n",
       "      <td>2015-05-13 23:33:00</td>\n",
       "      <td>OTHER OFFENSES</td>\n",
       "      <td>TRAFFIC VIOLATION ARREST</td>\n",
       "      <td>Wednesday</td>\n",
       "      <td>NORTHERN</td>\n",
       "      <td>ARREST, BOOKED</td>\n",
       "      <td>VANNESS AV / GREENWICH ST</td>\n",
       "      <td>-122.424363</td>\n",
       "      <td>37.800414</td>\n",
       "    </tr>\n",
       "    <tr>\n",
       "      <th>3</th>\n",
       "      <td>2015-05-13 23:30:00</td>\n",
       "      <td>LARCENY/THEFT</td>\n",
       "      <td>GRAND THEFT FROM LOCKED AUTO</td>\n",
       "      <td>Wednesday</td>\n",
       "      <td>NORTHERN</td>\n",
       "      <td>NONE</td>\n",
       "      <td>1500 Block of LOMBARD ST</td>\n",
       "      <td>-122.426995</td>\n",
       "      <td>37.800873</td>\n",
       "    </tr>\n",
       "    <tr>\n",
       "      <th>4</th>\n",
       "      <td>2015-05-13 23:30:00</td>\n",
       "      <td>LARCENY/THEFT</td>\n",
       "      <td>GRAND THEFT FROM LOCKED AUTO</td>\n",
       "      <td>Wednesday</td>\n",
       "      <td>PARK</td>\n",
       "      <td>NONE</td>\n",
       "      <td>100 Block of BRODERICK ST</td>\n",
       "      <td>-122.438738</td>\n",
       "      <td>37.771541</td>\n",
       "    </tr>\n",
       "  </tbody>\n",
       "</table>\n",
       "</div>"
      ],
      "text/plain": [
       "                 Dates        Category                      Descript  \\\n",
       "0  2015-05-13 23:53:00        WARRANTS                WARRANT ARREST   \n",
       "1  2015-05-13 23:53:00  OTHER OFFENSES      TRAFFIC VIOLATION ARREST   \n",
       "2  2015-05-13 23:33:00  OTHER OFFENSES      TRAFFIC VIOLATION ARREST   \n",
       "3  2015-05-13 23:30:00   LARCENY/THEFT  GRAND THEFT FROM LOCKED AUTO   \n",
       "4  2015-05-13 23:30:00   LARCENY/THEFT  GRAND THEFT FROM LOCKED AUTO   \n",
       "\n",
       "   DayOfWeek PdDistrict      Resolution                    Address  \\\n",
       "0  Wednesday   NORTHERN  ARREST, BOOKED         OAK ST / LAGUNA ST   \n",
       "1  Wednesday   NORTHERN  ARREST, BOOKED         OAK ST / LAGUNA ST   \n",
       "2  Wednesday   NORTHERN  ARREST, BOOKED  VANNESS AV / GREENWICH ST   \n",
       "3  Wednesday   NORTHERN            NONE   1500 Block of LOMBARD ST   \n",
       "4  Wednesday       PARK            NONE  100 Block of BRODERICK ST   \n",
       "\n",
       "            X          Y  \n",
       "0 -122.425892  37.774599  \n",
       "1 -122.425892  37.774599  \n",
       "2 -122.424363  37.800414  \n",
       "3 -122.426995  37.800873  \n",
       "4 -122.438738  37.771541  "
      ]
     },
     "execution_count": 24,
     "metadata": {},
     "output_type": "execute_result"
    }
   ],
   "source": [
    "tmp2.head()"
   ]
  },
  {
   "cell_type": "code",
   "execution_count": 25,
   "metadata": {},
   "outputs": [
    {
     "data": {
      "text/plain": [
       "Index(['Dates', 'Category', 'Descript', 'DayOfWeek', 'PdDistrict',\n",
       "       'Resolution', 'Address', 'X', 'Y'],\n",
       "      dtype='object')"
      ]
     },
     "execution_count": 25,
     "metadata": {},
     "output_type": "execute_result"
    }
   ],
   "source": [
    "tmp2.columns"
   ]
  },
  {
   "cell_type": "markdown",
   "metadata": {},
   "source": [
    "## 데이터 분석"
   ]
  },
  {
   "cell_type": "markdown",
   "metadata": {},
   "source": [
    "#### 카테고리 분석"
   ]
  },
  {
   "cell_type": "code",
   "execution_count": 58,
   "metadata": {},
   "outputs": [
    {
     "data": {
      "text/plain": [
       "array(['2015-05-13 23:53:00', '2015-05-13 23:33:00',\n",
       "       '2015-05-13 23:30:00', ..., '2003-01-06 00:20:00',\n",
       "       '2003-01-06 00:15:00', '2003-01-06 00:01:00'], dtype=object)"
      ]
     },
     "execution_count": 58,
     "metadata": {},
     "output_type": "execute_result"
    }
   ],
   "source": [
    "tmp2['Dates'].unique()"
   ]
  },
  {
   "cell_type": "code",
   "execution_count": 60,
   "metadata": {},
   "outputs": [
    {
     "data": {
      "text/plain": [
       "389257"
      ]
     },
     "execution_count": 60,
     "metadata": {},
     "output_type": "execute_result"
    }
   ],
   "source": [
    "len(tmp2['Dates'].unique())\n",
    "\n",
    "# 범죄 종류 39개"
   ]
  },
  {
   "cell_type": "code",
   "execution_count": 61,
   "metadata": {},
   "outputs": [
    {
     "data": {
      "text/plain": [
       "False"
      ]
     },
     "execution_count": 61,
     "metadata": {},
     "output_type": "execute_result"
    }
   ],
   "source": [
    "tmp2['Category'].isnull().any()\n",
    "\n",
    "# null값이 없음."
   ]
  },
  {
   "cell_type": "code",
   "execution_count": 28,
   "metadata": {},
   "outputs": [
    {
     "data": {
      "text/plain": [
       "array(['WARRANTS', 'OTHER OFFENSES', 'LARCENY/THEFT', 'VEHICLE THEFT',\n",
       "       'VANDALISM', 'NON-CRIMINAL', 'ROBBERY', 'ASSAULT', 'WEAPON LAWS',\n",
       "       'BURGLARY', 'SUSPICIOUS OCC', 'DRUNKENNESS',\n",
       "       'FORGERY/COUNTERFEITING', 'DRUG/NARCOTIC', 'STOLEN PROPERTY',\n",
       "       'SECONDARY CODES', 'TRESPASS', 'MISSING PERSON', 'FRAUD',\n",
       "       'KIDNAPPING', 'RUNAWAY', 'DRIVING UNDER THE INFLUENCE',\n",
       "       'SEX OFFENSES FORCIBLE', 'PROSTITUTION', 'DISORDERLY CONDUCT',\n",
       "       'ARSON', 'FAMILY OFFENSES', 'LIQUOR LAWS', 'BRIBERY',\n",
       "       'EMBEZZLEMENT', 'SUICIDE', 'LOITERING',\n",
       "       'SEX OFFENSES NON FORCIBLE', 'EXTORTION', 'GAMBLING', 'BAD CHECKS',\n",
       "       'TREA', 'RECOVERED VEHICLE', 'PORNOGRAPHY/OBSCENE MAT'],\n",
       "      dtype=object)"
      ]
     },
     "execution_count": 28,
     "metadata": {},
     "output_type": "execute_result"
    }
   ],
   "source": [
    "tmp2['Category'].unique()"
   ]
  },
  {
   "cell_type": "code",
   "execution_count": 27,
   "metadata": {},
   "outputs": [
    {
     "data": {
      "text/plain": [
       "39"
      ]
     },
     "execution_count": 27,
     "metadata": {},
     "output_type": "execute_result"
    }
   ],
   "source": [
    "len(tmp2['Category'].unique())\n",
    "\n",
    "# 범죄 종류 39개"
   ]
  },
  {
   "cell_type": "code",
   "execution_count": 43,
   "metadata": {},
   "outputs": [
    {
     "data": {
      "text/plain": [
       "False"
      ]
     },
     "execution_count": 43,
     "metadata": {},
     "output_type": "execute_result"
    }
   ],
   "source": [
    "tmp2['Category'].isnull().any()\n",
    "\n",
    "# null값이 없음."
   ]
  },
  {
   "cell_type": "code",
   "execution_count": 29,
   "metadata": {},
   "outputs": [
    {
     "data": {
      "text/plain": [
       "array(['WARRANT ARREST', 'TRAFFIC VIOLATION ARREST',\n",
       "       'GRAND THEFT FROM LOCKED AUTO', 'GRAND THEFT FROM UNLOCKED AUTO',\n",
       "       'STOLEN AUTOMOBILE', 'PETTY THEFT FROM LOCKED AUTO',\n",
       "       'MISCELLANEOUS INVESTIGATION',\n",
       "       'MALICIOUS MISCHIEF, VANDALISM OF VEHICLES', 'FOUND PROPERTY',\n",
       "       'ROBBERY, ARMED WITH A KNIFE',\n",
       "       'AGGRAVATED ASSAULT WITH BODILY FORCE', 'TRAFFIC VIOLATION',\n",
       "       'ROBBERY, BODILY FORCE',\n",
       "       'STAY AWAY OR COURT ORDER, NON-DV RELATED', 'LOST PROPERTY',\n",
       "       'ATTEMPTED THEFT FROM LOCKED VEHICLE', 'CIVIL SIDEWALKS, CITATION',\n",
       "       'MALICIOUS MISCHIEF, VANDALISM', 'SUSPICIOUS PACKAGE',\n",
       "       'AIDED CASE, MENTAL DISTURBED', 'PETTY THEFT SHOPLIFTING',\n",
       "       'PROBATION VIOLATION', 'STAY AWAY ORDER VIOLATION, DV RELATED',\n",
       "       'DRIVERS LICENSE, SUSPENDED OR REVOKED', 'STOLEN MOTORCYCLE',\n",
       "       'GRAND THEFT FROM PERSON', 'BURGLARY, VEHICLE (ARREST MADE)',\n",
       "       'ATTEMPTED ROBBERY ON THE STREET WITH BODILY FORCE',\n",
       "       'PETTY THEFT FROM A BUILDING', 'INVESTIGATIVE DETENTION',\n",
       "       'GRAND THEFT OF PROPERTY', 'STOLEN AND RECOVERED VEHICLE',\n",
       "       'UNDER INFLUENCE OF ALCOHOL IN A PUBLIC PLACE',\n",
       "       'ENROUTE TO PAROLE OFFICER', 'ENROUTE TO OUTSIDE JURISDICTION',\n",
       "       'EXHIBITING DEADLY WEAPON IN A THREATING MANNER',\n",
       "       'GRAND THEFT FROM A BUILDING',\n",
       "       'BURGLARY OF RESIDENCE, ATTEMPTED FORCIBLE ENTRY',\n",
       "       'PETTY THEFT OF PROPERTY',\n",
       "       'BURGLARY OF APARTMENT HOUSE, UNLAWFUL ENTRY', 'FORGERY, NOTES',\n",
       "       'CHECKS, POSSESSION WITH INTENT TO PASS',\n",
       "       'BURGLARY,STORE UNDER CONSTRUCTION, UNLAWFUL ENTRY',\n",
       "       'GRAND THEFT SHOPLIFTING', 'POSSESSION OF NARCOTICS PARAPHERNALIA',\n",
       "       'RESISTING ARREST', 'CHILD ABUSE (PHYSICAL)',\n",
       "       'STOLEN PROPERTY, POSSESSION WITH KNOWLEDGE, RECEIVING',\n",
       "       'DOMESTIC VIOLENCE', 'THREATS AGAINST LIFE', 'AIDED CASE',\n",
       "       'TRESPASSING', 'BURGLARY OF HOTEL ROOM, UNLAWFUL ENTRY',\n",
       "       'POSSESSION OF MARIJUANA', 'LOST/STOLEN LICENSE PLATE',\n",
       "       'BURGLARY,BLDG. UNDER CONSTRUCTION, UNLAWFUL ENTRY',\n",
       "       'ROBBERY OF A COMMERCIAL ESTABLISHMENT W/ A KNIFE',\n",
       "       'FORGERY & COUNTERFEITING (GENERAL)',\n",
       "       'FRAUDULENT GAME OR TRICK, OBTAINING MONEY OR PROPERTY',\n",
       "       'STOLEN TRUCK', 'MISSING JUVENILE', 'RECKLESS DRIVING',\n",
       "       'ROBBERY, ARMED WITH A DANGEROUS WEAPON',\n",
       "       'VIOLATION OF RESTRAINING ORDER', 'JUVENILE INVOLVED',\n",
       "       'BATTERY, FORMER SPOUSE OR DATING RELATIONSHIP',\n",
       "       'TRAFFIC ACCIDENT',\n",
       "       'SHOOTING INTO INHABITED DWELLING OR OCCUPIED VEHICLE',\n",
       "       'SUSPICIOUS OCCURRENCE', 'BURGLARY, HOT PROWL, UNLAWFUL ENTRY',\n",
       "       'ENROUTE TO DEPARTMENT OF CORRECTIONS',\n",
       "       'POSSESSION OF MARIJUANA FOR SALES', 'SALE OF MARIJUANA',\n",
       "       'BURGLARY, HOT PROWL, ATTEMPTED FORCIBLE ENTRY',\n",
       "       'VIOLATION OF MUNICIPAL CODE', 'PAROLE VIOLATION', 'BATTERY',\n",
       "       'BURGLARY OF APARTMENT HOUSE, FORCIBLE ENTRY',\n",
       "       'BURGLARY OF RESIDENCE, FORCIBLE ENTRY',\n",
       "       'ROBBERY OF A CHAIN STORE WITH A DANGEROUS WEAPON',\n",
       "       'AGGRAVATED ASSAULT WITH A DEADLY WEAPON',\n",
       "       'POSSESSION OF METH-AMPHETAMINE',\n",
       "       'ROBBERY OF A BANK WITH A DANGEROUS WEAPON',\n",
       "       'BURGLARY, UNLAWFUL ENTRY', 'THEFT OF ANIMALS (GENERAL)',\n",
       "       'AGGRAVATED ASSAULT WITH A KNIFE', 'CREDIT CARD, THEFT BY USE OF',\n",
       "       'AIDED CASE -PROPERTY FOR DESTRUCTION', 'FALSE IMPRISONMENT',\n",
       "       'ROBBERY ON THE STREET, STRONGARM', 'SUSPICIOUS PERSON',\n",
       "       'PETTY THEFT BICYCLE', 'MISSING ADULT', 'FOUND PERSON', 'RUNAWAY',\n",
       "       'LOITERING WHERE NARCOTICS ARE SOLD/USED', 'HARASSING PHONE CALLS',\n",
       "       'INCIDENT ON SCHOOL GROUNDS', 'GRAND THEFT BICYCLE',\n",
       "       'ATTEMPTED THEFT OF A BICYCLE', 'VIOLATION OF PARK CODE',\n",
       "       'ATTEMPTED ROBBERY ON THE STREET W/DEADLY WEAPON',\n",
       "       'ATTEMPTED GRAND THEFT PURSESNATCH',\n",
       "       'ATTEMPTED ROBBERY WITH BODILY FORCE',\n",
       "       'BURGLARY OF STORE, FORCIBLE ENTRY',\n",
       "       'POSSESSION OF BURGLARY TOOLS W/PRIORS',\n",
       "       'KIDNAPPING DURING ROBBERY', 'ROBBERY,  ATM, GUN', 'CONSPIRACY',\n",
       "       'RESTRAINING ORDER NOTIFICATION/SERVICE OF RESTRAINING ORDER',\n",
       "       'AIDED CASE, INJURED PERSON',\n",
       "       'DRIVING WHILE UNDER THE INFLUENCE OF ALCOHOL',\n",
       "       'INFLICT INJURY ON COHABITEE',\n",
       "       'DISCHARGE FIREARM AT AN INHABITED DWELLING',\n",
       "       'ROBBERY OF A CHAIN STORE WITH A GUN',\n",
       "       'PENETRATION, FORCED, WITH OBJECT',\n",
       "       'ORAL COPULATION, UNLAWFUL (ADULT VICTIM)',\n",
       "       'FRAUDULENT USE OF AUTOMATED TELLER CARD', 'ATM RELATED CRIME',\n",
       "       'TAMPERING WITH A VEHICLE', 'FORGERY, CREDIT CARD',\n",
       "       'THEFT OF COMPUTERS OR CELL PHONES', 'AIDED CASE, SICK PERSON',\n",
       "       'ENGAGING IN LEWD CONDUCT - PROSTITUTION RELATED',\n",
       "       'POSSESSION OF HEROIN', 'ASSAULT WITH CAUSTIC CHEMICALS',\n",
       "       'VIOLATION OF MUNICIPAL POLICE CODE',\n",
       "       'BURGLARY, HOT PROWL, FORCIBLE ENTRY',\n",
       "       'MALICIOUS MISCHIEF, BREAKING WINDOWS',\n",
       "       'ATTEMPTED ROBBERY OF A BANK WITH BODILY FORCE',\n",
       "       'FALSE PERSONATION', 'ATTEMPTED ROBBERY WITH A DEADLY WEAPON',\n",
       "       'AGGRAVATED ASSAULT WITH A GUN', 'ASSAULT, AGGRAVATED, W/ GUN',\n",
       "       'POSSESSION OF CONTROLLED SUBSTANCE FOR SALE',\n",
       "       'BURGLARY, FORCIBLE ENTRY', 'GRAND THEFT PICKPOCKET',\n",
       "       'ELDER ADULT OR DEPENDENT ABUSE (NOT EMBEZZLEMENT OR THEFT)',\n",
       "       'BURGLARY OF APARTMENT HOUSE, ATT FORCIBLE ENTRY',\n",
       "       'ROBBERY OF A CHAIN STORE WITH A KNIFE',\n",
       "       'BURGLARY OF STORE, UNLAWFUL ENTRY', 'FIRE REPORT',\n",
       "       'DISTURBING THE PEACE', 'DEATH REPORT, CAUSE UNKNOWN',\n",
       "       'PETTY THEFT FROM UNLOCKED AUTO',\n",
       "       'BURGLARY OF RESIDENCE, UNLAWFUL ENTRY',\n",
       "       'BURGLARY OF FLAT, UNLAWFUL ENTRY', 'MONEY, CHANGING FACE AMOUNT',\n",
       "       'BURGLARY,STORE UNDER CONSTRUCTION, FORCIBLE ENTRY',\n",
       "       'ARSON OF A VEHICLE', 'POSSESSION OF BURGLARY TOOLS',\n",
       "       'BURGLARY, VEHICLE, ATT. (ARREST MADE)',\n",
       "       'TRESPASS WITHIN 30 DAYS OF CREDIBLE THREAT',\n",
       "       'UNDER INFLUENCE OF DRUGS IN A PUBLIC PLACE',\n",
       "       'SODOMY (ADULT VICTIM)', 'BATTERY OF A POLICE OFFICER',\n",
       "       'FORGERY, POSSESSION DRIVERS LICENSE OR ID-CARD',\n",
       "       'MALICIOUS MISCHIEF, GRAFFITI',\n",
       "       'VANDALISM OR GRAFFITI TOOLS, POSSESSION', 'LOCATED PROPERTY',\n",
       "       'POSS OF LOADED FIREARM', 'FALSE PRETENSES, GRAND THEFT',\n",
       "       'CREDIT CARD, THEFT OF', 'AIDED CASE, DOG BITE',\n",
       "       'THEFT FROM MERCHANT OR LIBRARY', 'PROBATION SEARCH',\n",
       "       'ATTEMPTED ROBBERY RESIDENCE WITH BODILY FORCE',\n",
       "       'POSS OF FIREARM BY CONVICTED FELON/ADDICT/ALIEN',\n",
       "       'FIREARM, LOADED, IN VEHICLE, POSSESSION OR USE',\n",
       "       'CARRYING A CONCEALED WEAPON',\n",
       "       'MINOR WITHOUT PROPER PARENTAL CARE',\n",
       "       'FRAUDULENT CREDIT APPLICATION',\n",
       "       'FALSE PERSONATION TO RECEIVE MONEY OR PROPERTY',\n",
       "       'POSSESSION OF CONTROLLED SUBSTANCE', 'SEXUAL BATTERY',\n",
       "       'TRAFFIC COLLISION, HIT & RUN, INJURY',\n",
       "       'COUNTERFEITING, COINS OR NOTES',\n",
       "       'POSSESSION OF BASE/ROCK COCAINE FOR SALE', 'GANG ACTIVITY',\n",
       "       'ATTEMPTED HOMICIDE WITH A GUN', 'SEARCH WARRANT SERVICE',\n",
       "       'CHILD STEALING', 'COURTESY REPORT',\n",
       "       'ATTEMPTED THEFT FROM A BUILDING', 'ENROUTE TO ADULT AUTHORITY',\n",
       "       'CHILD ABUSE, PORNOGRAPHY', 'SUSPICIOUS ACT TOWARDS FEMALE',\n",
       "       'HUMAN TRAFFICKING', 'THEFT OF CHECKS OR CREDIT CARDS',\n",
       "       'AMMUNITION, POSS. BY PROHIBITED PERSON', 'ASSAULT',\n",
       "       'ASSAULT TO RAPE WITH BODILY FORCE', 'CASE CLOSURE',\n",
       "       'ATTEMPTED HOMICIDE WITH BODILY FORCE',\n",
       "       'SHOPLIFTING, FORCE AGAINST AGENT',\n",
       "       'POSSESSION OF HEROIN FOR SALES', 'ARSON',\n",
       "       'MALICIOUS MISCHIEF, ADULT SUSPECT',\n",
       "       'BURGLARY OF WAREHOUSE, FORCIBLE ENTRY',\n",
       "       'POSS OF PROHIBITED WEAPON',\n",
       "       'DISCHARGE FIREARM WITHIN CITY LIMITS', 'OBSCENE PHONE CALLS(S)',\n",
       "       'POSSESSION OF ALCOHOL BY MINOR', 'SALE OF BASE/ROCK COCAINE',\n",
       "       'FIREARM, CARRYING LOADED WITH INTENT TO COMMIT FELONY',\n",
       "       'SALE OF CONTROLLED SUBSTANCE', 'CIVIL SIDEWALKS, WARNING',\n",
       "       'FALSE PRETENSES, PETTY THEFT',\n",
       "       'MALICIOUS MISCHIEF, TIRE SLASHING', 'FORCIBLE RAPE, BODILY FORCE',\n",
       "       'DEFRAUDING AN INNKEEPER', 'ATTEMPTED SHOPLIFTING',\n",
       "       'DEATH REPORT, NATURAL CAUSES', 'ENGAGING IN LEWD ACT',\n",
       "       'LICENSE PLATE, FOUND', 'ROBBERY ON THE STREET WITH A KNIFE',\n",
       "       'ROBBERY, ARMED WITH A GUN',\n",
       "       'ROBBERY OF A CHAIN STORE WITH BODILY FORCE',\n",
       "       'THREATENING PHONE CALL(S)', 'EVADING A POLICE OFFICER RECKLESSLY',\n",
       "       'FIREARM, DISCHARGING AT OCCUPIED BLDG, VEHICLE, OR AIRCRAFT',\n",
       "       'KIDNAPPING, ADULT VICTIM',\n",
       "       'SUSPICIOUS OCCURRENCE, POSSIBLE SHOTS FIRED',\n",
       "       'DEFRAUDING TAXI DRIVER', 'LOST PROPERTY, PETTY THEFT',\n",
       "       'PERMIT VIOLATION, POLICE (GENERAL)',\n",
       "       'ATTEMPTED HOMICIDE WITH A KNIFE',\n",
       "       'CONSUMING ALCOHOL IN PUBLIC VIEW',\n",
       "       'FALSE EVIDENCE OF VEHICLE REGISTRATION',\n",
       "       'DISTURBING THE PEACE, COMMOTION',\n",
       "       'ATTEMPTED THEFT FROM UNLOCKED VEHICLE', 'FALSE FIRE ALARM',\n",
       "       'DOG, STRAY OR VICIOUS', 'THEFT, GRAND, OF FIREARM',\n",
       "       'DISSUADING WITNESS, VICTIM', 'POSS OF TEAR GAS WEAPON',\n",
       "       'INJURY TO TELEGRAPH/TELEPHONE LINES',\n",
       "       'ROBBERY OF A RESIDENCE WITH BODILY FORCE',\n",
       "       'DRIVING WHILE UNDER THE INFLUENCE OF DRUGS',\n",
       "       'ROBBERY ON THE STREET WITH A GUN',\n",
       "       'TRICK AND DEVICE, PETTY THEFT', 'ATTEMPTED ARSON',\n",
       "       'FLAMMABLE OR EXPLOSIVE DEVICE, POSSESSION',\n",
       "       'POSSESSION OF METH-AMPHETAMINE FOR SALE',\n",
       "       'TRANSPORTATION OF METH-AMPHETAMINE', 'GRAND THEFT AUTO STRIP',\n",
       "       'WEAPON, DEADLY, EXHIBITING TO RESIST ARREST',\n",
       "       'THREAT OR FORCE TO RESIST EXECUTIVE OFFICER',\n",
       "       'SELL OR FURNISH ALCOHOL TO INTOXICATED PERSON',\n",
       "       'TRAFFIC COLLISION, HIT & RUN, PROPERTY DAMAGE',\n",
       "       'STOLEN MISCELLANEOUS VEHICLE', 'FALSE ID TO PEACE OFFICER',\n",
       "       'ROBBERY ON THE STREET WITH A DANGEROUS WEAPON',\n",
       "       'CIVIL SIDEWALKS, VIOLATION', 'THREATS TO SCHOOL TEACHERS',\n",
       "       'POSSESSION OF AIR GUN', 'POSSESSION OF BASE/ROCK COCAINE',\n",
       "       'ATTEMPTED MAYHEM WITH A DEADLY WEAPON',\n",
       "       'ROBBERY OF A COMMERCIAL ESTABLISHMENT, STRONGARM',\n",
       "       'BURGLARY,BLDG. UNDER CONSTRUCTION, FORCIBLE ENTRY', 'STALKING',\n",
       "       'CHECKS, MAKE OR PASS FICTITIOUS',\n",
       "       'CHECKS OR LEGAL INSTRUMENTS, UTTERING FORGED',\n",
       "       'SOLICITS FOR ACT OF PROSTITUTION',\n",
       "       'LOITERING FOR PURPOSE OF PROSTITUTION',\n",
       "       'LICENSE PLATE, RECOVERED', 'POSSESSION OF COCAINE FOR SALES',\n",
       "       'TARASOFF REPORT', 'EMBEZZLED VEHICLE',\n",
       "       'FAILURE TO REGISTER AS SEX OFFENDER', 'ROBBERY,  ATM, GUN, ATT.',\n",
       "       'PROBATION VIOLATION, DV RELATED', 'PREJUDICE-BASED INCIDENT',\n",
       "       'DEATH, ACCIDENTAL', 'IMPOUNDED VEHICLE',\n",
       "       'BATTERY WITH SERIOUS INJURIES', 'DISORDERLY HOUSE, KEEPING',\n",
       "       'TRANSPORTATION OF MARIJUANA', 'ATTEMPTED STOLEN VEHICLE',\n",
       "       'VEHICLE ALARM CODE GRABBING DEVICE, POSSESS OR USE',\n",
       "       'CARRYING OF CONCEALED WEAPON BY CONVICTED FELON',\n",
       "       'MAINTAINING A PUBLIC NUISANCE AFTER NOTIFICATION',\n",
       "       'OBSTRUCTIONS ON STREETS/SIDEWALKS',\n",
       "       'VIOLATION OF EMERGENCY PROTECTIVE ORDER',\n",
       "       'MAINTAINING A PUBLIC NUISANCE',\n",
       "       'BURGLARY, ATTEMPTED FORCIBLE ENTRY', 'COMMITTING PUBLIC NUISANCE',\n",
       "       'ANNOY OR MOLEST CHILDREN', 'INDECENT EXPOSURE',\n",
       "       'AGGRAVATED ASSAULT OF POLICE OFFICER,BODILY FORCE',\n",
       "       'ATTEMPTED KIDNAPPING, JUVENILE VICTIM',\n",
       "       'ATTEMPTED GRAND THEFT FROM PERSON',\n",
       "       'ROBBERY OF A RESIDENCE WITH A KNIFE',\n",
       "       'VIOLATION OF STAY AWAY ORDER', 'MISCELLANEOUS STATE FELONY',\n",
       "       'ATTEMPTED SUICIDE', 'PROPERTY FOR IDENTIFICATION',\n",
       "       'PLANTING/CULTIVATING MARIJUANA',\n",
       "       'ACCESS CARD INFORMATION, THEFT OF',\n",
       "       'MISCELLANEOUS STATE MISDEMEANOR', 'SHORT CHANGE, PETTY THEFT',\n",
       "       'THEFT, DRUNK ROLL, <$50', 'KIDNAPPING, JUVENILE VICTIM',\n",
       "       'TRUANT, HABITUAL', 'DISTURBING THE PEACE, FIGHTING',\n",
       "       'SUSPICIOUS AUTO, POSSIBLY SEX',\n",
       "       'BURGLARY,RESIDENCE UNDER CONSTRT, FORCIBLE ENTRY',\n",
       "       'BRIBERY OF EXECUTIVE OFFICER',\n",
       "       'THREATENING SCHOOL OR PUBLIC EMPLOYEE', 'CRUELTY TO ANIMALS',\n",
       "       'BURGLARY OF HOTEL ROOM, FORCIBLE ENTRY',\n",
       "       'LOITERING ABOUT SCHOOL/PLAYGROUND', 'POSSESSION OF COCAINE',\n",
       "       'SPEEDING', 'SCHOOL, PUBLIC, TRESPASS',\n",
       "       'ROBBERY OF A COMMERCIAL ESTABLISHMENT W/ WEAPON',\n",
       "       'ENROUTE TO U.S. MARSHALL',\n",
       "       'ASSAULT ON A POLICE OFFICER WITH A DEADLY WEAPON',\n",
       "       'PETTY THEFT AUTO STRIP', 'ATTEMPTED PETTY THEFT OF PROPERTY',\n",
       "       'ATTEMPTED SIMPLE ASSAULT', 'BURGLARY OF FLAT, FORCIBLE ENTRY',\n",
       "       'COUNTERFEITING, POSSESSION COINS OR NOTES',\n",
       "       'ATTEMPTED ROBBERY ON THE STREET WITH A GUN',\n",
       "       'MALICIOUS MISCHIEF, JUVENILE SUSPECT', 'MAYHEM WITH A KNIFE',\n",
       "       'UNLAWFUL DISSUADING/THREATENING OF A WITNESS',\n",
       "       'DRIVING, RECKLESS, WITH INJURY',\n",
       "       'WEAPON, DEADLY, CARRYING WITH INTENT TO COMMIT ASSAULT',\n",
       "       'OPEN CONTAINER OF ALCOHOL IN VEHICLE',\n",
       "       'RESISTING PEACE OFFICER, CAUSING THEIR SERIOUS INJURY OR DEATH',\n",
       "       'ENROUTE TO PROBATION OFFICER',\n",
       "       'REMAINING ON CAMPUS WITHOUT CONSENT',\n",
       "       'SCHOOL PROPERTY, DISTURBANCE ON',\n",
       "       'WEAPON, POSSESS OR BRING OTHER ON SCHOOL GROUNDS',\n",
       "       'UNUSUAL OCCURENCE',\n",
       "       'FALSE PERSONATION AND CHEAT CRIMES (GENERAL)', 'CURFEW VIOLATION',\n",
       "       'POSSESSION OF HALLUCINOGENIC FOR SALES', 'SALE OF HALLUCINOGENIC',\n",
       "       'CARJACKING WITH A KNIFE', 'KIDNAPPING DURING CARJACKING',\n",
       "       'MAINTAINING PREMISE WHERE NARCOTICS ARE SOLD/USED',\n",
       "       'ARMOR PENETRATING AMMUNITION, POSSESSION',\n",
       "       'POST RELEASE COMMUNITY SUPERVISION',\n",
       "       'FORGE OR ALTER PRESCRIPTION',\n",
       "       'DISCHARGING IN GROSSLY NEGLIGENT MANNER',\n",
       "       'GRAND THEFT PURSESNATCH', 'ATTEMPTED ROBBERY WITH A KNIFE',\n",
       "       'CARJACKING WITH BODILY FORCE',\n",
       "       'CHILD, INFLICTING INJURY RESULTING IN TRAUMATIC CONDITION',\n",
       "       'WEAPON, POSSESSING IN PUBLIC BUILDING OR OPEN MEETING',\n",
       "       'EMBEZZLEMENT FROM DEPENDENT OR ELDER ADULT BY CARETAKER',\n",
       "       'BURGLARY,RESIDENCE UNDER CONSTRT, UNLAWFUL ENTRY',\n",
       "       'AUTO, GRAND THEFT OF', 'DESTITUTE MINOR',\n",
       "       'STOLEN CHECKS, POSSESSION', 'FIRE, UNLAWFULLY CAUSING',\n",
       "       'ROBBERY OF A BANK WITH BODILY FORCE', 'BEYOND PARENTAL CONTROL',\n",
       "       'FIREARMS, SEIZING AT SCENE OF DV',\n",
       "       'FALSE CLAIMS, PRESENTING TO GOVERNMENT', 'TURNED IN GUN',\n",
       "       'LOCATED EXPLOSIVE DEVICE', 'SUICIDE BY JUMPING',\n",
       "       'ANIMAL, FIGHTING', 'ARSON OF AN INHABITED DWELLING',\n",
       "       'BURGLARY,STORE UNDER CONSTRUCTION, ATT. FORCIBLE',\n",
       "       'LOITERING WHILE CARRYING CONCEALED WEAPON',\n",
       "       'DANGER OF LEADING IMMORAL LIFE', 'CHECKS, FORGERY (MISDEMEANOR)',\n",
       "       'DRIVES VEHICLE ALONG TRACK OF RAILROAD',\n",
       "       'TRANSPORTATION OF HEROIN', 'POSSESSION OF OPIATES FOR SALES',\n",
       "       'TRANSPORTATION OF OPIATES',\n",
       "       'DRIVING WHILE UNDER THE INFLUENCE OF ALCOHOL, W/INJURY',\n",
       "       'ATTEMPTED KIDNAPPING, ADULT VICTIM', 'PHONE CALLS, OBSCENE',\n",
       "       'VIOLATION OF FIRE CODE', 'UNLAWFUL SEXUAL INTERCOURSE',\n",
       "       'SUSPICIOUS ACT TOWARDS CHILD', 'SALE OF OPIUM',\n",
       "       'PHONE CALLS IN VIOLATION OF DV COURT ORDER',\n",
       "       'EMBEZZLEMENT, GRAND THEFT BY BROOKERS/AGENTS',\n",
       "       'TRANSPORTAION OF CONTROLLED SUBSTANCE', 'STOLEN TRAILER',\n",
       "       'FALSE REPORT OF EMERGENCY',\n",
       "       'ATTEMPTED ROBBERY CHAIN STORE WITH A KNIFE',\n",
       "       'POSSESSION OF HALLUCINOGENIC', 'THEFT, DRUNK ROLL, $50-$200',\n",
       "       'FAILURE TO PROVIDE FOR CHILD',\n",
       "       'ELECTRICAL  OR GAS LINES, INTERFERING WITH',\n",
       "       'WEAPON, ASSAULT, POSSESSION, MANUFACTURE, OR SALE',\n",
       "       'VIN, ALTER OR REMOVE',\n",
       "       'ATTEMPTED ROBBERY CHAIN STORE WITH BODILY FORCE',\n",
       "       'LODGING WITHOUT PERMISSION', 'LOST PROPERTY, GRAND THEFT',\n",
       "       'ROBBERY,  ATM, FORCE, ATT.',\n",
       "       'CELLULAR OR CORDLESS PHONE COMMUNICATIONS, INTERCEPTING',\n",
       "       'EVADING A POLICE VEHICLE OR BICYCLE', 'EXTORTION',\n",
       "       'LICENSE PLATE OR TAB, THEFT OF', 'PAROLE SEARCH',\n",
       "       'THEFT OF UTILITY SERVICES',\n",
       "       'FIREARM, ARMED WHILE POSSESSING CONTROLLED SUBSTANCE',\n",
       "       'ATTEMPTED MAYHEM WITH BODILY FORCE',\n",
       "       'MAYHEM WITH A DEADLY WEAPON',\n",
       "       'ATTEMPTED HOMICIDE WITH A DANGEROUS WEAPON', 'GAMBLING',\n",
       "       'POSSESSION OF GAMBLING DEVICES',\n",
       "       'SEXUAL ASSAULT, AGGRAVATED, OF CHILD',\n",
       "       'CREDIT CARD, INCOMPLETE OR COUNTERFEIT',\n",
       "       'CONTRIBUTING TO THE DELINQUENCY OF MINOR',\n",
       "       'ATTEMPTED ROBBERY ON THE STREET WITH A KNIFE',\n",
       "       'STOLEN ACCESS CARD, POSSESSION',\n",
       "       'BURGLARY,APT UNDER CONSTRUCTION, UNLAWFUL ENTRY',\n",
       "       'DISTURBING THE PEACE, SWEARING', 'ROBBERY OF A BANK WITH A GUN',\n",
       "       'MALICIOUS MISCHIEF, STREET CARS/BUSES', 'FALSE REPORT OF CRIME',\n",
       "       'SALE OF ALCOHOL TO MINOR',\n",
       "       'MONEY, PROPERTY OR LABOR, FRAUDULENTLY OBTAINING',\n",
       "       'DAMAGE TO PARKING METERS',\n",
       "       'THROWING INJURIOUS SUBSTANCE ON HIGHWAY',\n",
       "       'FIREARM, DISCHARGING IN GROSSLY NEGLIGENT MANNER',\n",
       "       'POSSESSION OF AMPHETAMINE FOR SALES',\n",
       "       'PRIVACY, INVASION OF  (GENERAL)',\n",
       "       'TOBACCO PRODUCTS, SELLING OR FURNISHING TO MINOR',\n",
       "       'EMBEZZLEMENT, PETTY THEFT BY EMPLOYEE',\n",
       "       'IMPERSONATING A POLICE OFFICER', 'TRICK AND DEVICE, ATTEMPTED',\n",
       "       'ROBBERY, VEHICLE FOR HIRE, ATT., W/ OTHER WEAPON',\n",
       "       'ROBBERY OF A BANK WITH A KNIFE',\n",
       "       'THEFT, BICYCLE, <$50, SERIAL NUMBER KNOWN',\n",
       "       'BURGLARY OF STORE, ATTEMPTED FORCIBLE ENTRY',\n",
       "       'SWITCHBLADE KNIFE, POSSESSION',\n",
       "       'WEAPON, ASSAULT, REGISTRATION OR TRANSFER VIOLATION',\n",
       "       'VEHICLE, DISABLED PLACARD VIOLATION',\n",
       "       'POSSESSION OF CAUSTIC CHEMICAL', 'TRANSPORTATION OF COCAINE',\n",
       "       'CHECKS, FORGERY (FELONY)',\n",
       "       'FIREARM, POSSESSION OF WHILE WEARING MASK',\n",
       "       'ROBBERY,  ATM, OTHER WEAPON', 'EMBEZZLEMENT, PETTY THEFT',\n",
       "       'AEROSOL CONTAINER; SALE, PURCHASE OR POSSESSION OF',\n",
       "       'ATTEMPTED ROBBERY COMM. ESTAB. WITH BODILY FORCE',\n",
       "       'IMMORAL ACTS OR DRUNK IN PRESENCE OF CHILD',\n",
       "       'POSSESSION OF METHADONE', 'PUBLIC TRANSIT CRIMES - INFRACTIONS',\n",
       "       'EVADING PAYMENT OF RAILROAD FARE', 'SHELTER',\n",
       "       'INTOXICATED JUVENILE', 'ATTEMPTED EXTORTION',\n",
       "       'ROBBERY OF A COMMERCIAL ESTABLISHMENT WITH A GUN',\n",
       "       'POSSESSION OF ARTICLES WITH IDENTIFICATION REMOVE',\n",
       "       'CHECKS, NON-SUFFICIENT FUNDS (MISDEMEANOR)',\n",
       "       'THEFT, GRAND, BY FIDUCIARY, >$400 IN 12 MONTHS',\n",
       "       'BURGLARY,RESIDENCE UNDER CONSTRT, ATT. FORCIBLE',\n",
       "       'MANUFACTURE OR SALE OF COUNTERFEIT GOODS',\n",
       "       'UNDER THE INFLUENCE OF CONTROLLED SUBSTANCES',\n",
       "       'ROBBERY,  ATM, KNIFE', 'ARSON OF A COMMERCIAL BUILDING',\n",
       "       'STOLEN CELLULAR PHONE, NON-CLONED, POSSESSION',\n",
       "       'MALICIOUS MISCHIEF, BREAKING WINDOWS WITH BB GUN',\n",
       "       'AUDIOVISUAL (VIDEO OR SOUND) RECORDINGS, UNAUTHORIZED',\n",
       "       'STOLEN ELECTRONICS, POSSESSION', 'RAPE, SPOUSAL',\n",
       "       'FORGERY, DRIVERS LICENSE OR ID-CARD', 'WILLFUL CRUELTY TO CHILD',\n",
       "       'FALSIFYING JUDICIAL & PUBLIC RECORDS & DOCUMENTS',\n",
       "       'CASH DISPENSING MACHINES (ATM), LOITERING PROHIBI',\n",
       "       'EMBEZZLEMENT, GRAND THEFT BY EMPLOYEE',\n",
       "       'INDECENT EXPOSURE (JUVENILE VICTIM)', 'CHILD ABUSE SEXUAL',\n",
       "       'CHILDREN, ABANDONMENT & NEGLECT OF (GENERAL)',\n",
       "       'AGGRAVATED ASSAULT ON POLICE OFFICER WITH A KNIFE',\n",
       "       'AUTO IMPOUNDED', 'INTERFERRING WITH A FIREMAN',\n",
       "       'THROWING SUBSTANCE AT VEHICLE', 'TRICK AND DEVICE, GRAND THEFT',\n",
       "       'VANDALISM OR GRAFFITI ON OR WITHIN 100 FT OF HIGHWAY',\n",
       "       'ARSON OF A VACANT BUILDING',\n",
       "       'TRADE SECRETS, THEFT OR UNAUTHORIZED COPYING',\n",
       "       'MINOR PURCHASING OR RECEIVING TOBACCO PRODUCT', 'SALE OF HEROIN',\n",
       "       'EMBEZZLEMENT, GRAND THEFT LEASED PROPERTY',\n",
       "       'VIOLATION OF FEDERAL STATUTE', 'ATTEMPTED RAPE, BODILY FORCE',\n",
       "       'PETTY THEFT COIN OPERATED MACHINE', 'POSSESSION OF OPIATES',\n",
       "       'GRAND THEFT BY PROSTITUTE',\n",
       "       'OTHER OFFENSES AGAINST PUBLIC JUSTICE',\n",
       "       'PEDDLING WITHOUT A LICENSE', 'SALE OF METH-AMPHETAMINE',\n",
       "       'FAILURE TO HEED RED LIGHT AND SIREN', 'SUICIDE BY ASPHYXIATION',\n",
       "       'BURGLARY,HOTEL UNDER CONSTRUCTION, FORCIBLE ENTRY',\n",
       "       'VIOLATION OF RESTRICTIONS ON A FIREARM TRANSFER',\n",
       "       'ATTEMPTED ROBBERY WITH A GUN', 'ORAL COPULATION',\n",
       "       'PERMIT VIOLATION, ENTERTAINMENT', 'CARJACKING WITH A GUN',\n",
       "       'REAL ESTATE FRAUD', 'BURGLARY OF FLAT, ATTEMPTED FORCIBLE ENTRY',\n",
       "       'THREAT TO STATE OFFICIAL OR JUDGE',\n",
       "       'IDENTIFICATION, GOVERNMENT, POSSESS, MAKE OR SELL FALSE',\n",
       "       'ATTEMPTED ROBBERY RESIDENCE WITH A KNIFE',\n",
       "       'INDECENT EXPOSURE WITH PRIOR CONVICTION',\n",
       "       'INTERFERRING WITH A POLICE OFFICER',\n",
       "       'ROBBERY OF A RESIDENCE WITH A GUN', 'MAYHEM WITH BODILY FORCE',\n",
       "       'COMPUTER SYSTEM, ACCESSING, COPYING, OR DAMAGING',\n",
       "       'FORCIBLE RAPE, ARMED WITH A SHARP INSTRUMENT',\n",
       "       'CHILD ABUSE, EXPLOITATION', 'DAMAGE TO MAIL BOX',\n",
       "       'MISCELLANEOUS LIQOUR LAW VIOLATION', 'SALE OF COCAINE',\n",
       "       'ABANDONMENT OF CHILD', 'PLACING TRASH ON THE STREET',\n",
       "       'SPITTING ON SIDEWALK', 'ACTS AGAINST PUBLIC TRANSIT',\n",
       "       'HAZARDOUS MATERIALS, SPILL ON ROADWAY',\n",
       "       'OPERATING TAXI WITHOUT A PERMIT', 'PETTY THEFT WITH PRIOR',\n",
       "       'FALSE REPORT OF BOMB', 'CARJACKING WITH A DANGEROUS WEAPON',\n",
       "       'THROWING OBJECT AT COMMON CARRIER, PASSENGER OR FREIGHT',\n",
       "       'DUMPING OF OFFENSIVE MATTER',\n",
       "       'DEATH, NON-MANSLAUGHTER AUTO ACCIDENT',\n",
       "       'FIREARM WITH ALTERED IDENTIFICATION',\n",
       "       'TAMPERING WITH MARKS ON FIREARM',\n",
       "       'FIREARM POSSESSION IN SCHOOL ZONE',\n",
       "       'PERMIT VIOLATION, VALET PARKING',\n",
       "       'BURGLARY,FLAT UNDER CONSTRUCTION, FORCIBLE ENTRY', 'SODOMY',\n",
       "       'JUDGE/JUROR ACCEPTING A BRIBE',\n",
       "       'TRESPASSING OR LOITERING NEAR POSTED INDUSTRIAL PROPERTY',\n",
       "       'OBSTRUCTING PUBLIC THOROUGHFARE',\n",
       "       'GRAFFITI ON GOVERNMENT VEHICLES OR PUBLIC TRANSPORTATION',\n",
       "       'UNLAWFUL TRANSPORTATION OF ALCOHOL', 'CIVIL SIDEWALKS, BOOKING',\n",
       "       'WEARING MASK OR DISGUISE FOR UNLAWFUL PURPOSE',\n",
       "       'ATTEMPTED SUICIDE BY LACERATION', 'EMBEZZLEMENT (GENERAL)',\n",
       "       'POSSESSION OF FIRECRACKERS',\n",
       "       'POSS OF DEADLY WEAPON WITH INTENT TO ASSAULT',\n",
       "       'BURGLARY,WAREHOUSE UNDER CONSTRT, FORCIBLE ENTRY',\n",
       "       'SAFE BURGLARY OF A HOTEL',\n",
       "       'PRESCRIPTION, FORGE OR ALTER (4390 B&P)',\n",
       "       'THEFT OF WRITTEN INSTRUMENT',\n",
       "       'SEXUAL ASSAULT, ADMINISTERING DRUG TO COMMIT',\n",
       "       'BURGLARY,APT UNDER CONSTRUCTION, FORCIBLE ENTRY',\n",
       "       'ATTEMPTED SUICIDE BY JUMPING', 'AGGRESSIVE SOLICITING',\n",
       "       'HABITUAL TRUANT', 'HYPODERMIC NEEDLE OR SYRINGE, POSSESSION',\n",
       "       'DAMAGE/DESTRUCTION OF MAIL',\n",
       "       'ATTEMPTED ROBBERY OF A BANK WITH A DEADLY WEAPON',\n",
       "       'ATTEMPTED ROBBERY RESIDENCE WITH A GUN', 'BEGGING',\n",
       "       'SAFE BURGLARY OF A STORE', 'EMBEZZLEMENT, GRAND THEFT',\n",
       "       'SALE OF OPIATES', 'PANDERING',\n",
       "       'MALICIOUS MISCHIEF, FICTITIOUS PHONE CALLS',\n",
       "       'PETTY THEFT MOTORCYCLE STRIP', 'THEFT, BOAT',\n",
       "       'CHECKS, NON-SUFFICIENT FUNDS (FELONY)',\n",
       "       'ESCAPE OR ASSISTING ESCAPE', 'ATTEMPTED SUICIDE BY INGESTION',\n",
       "       'TAKING CONTRABAND INTO A REFORMATORY', 'UNLAWFUL ASSEMBLY',\n",
       "       'BURGLARY OF WAREHOUSE, ATTEMPTED FORCIBLE ENTRY',\n",
       "       'ATTEMPTED ROBBERY RESIDENCE WITH A DEADLY WEAPON',\n",
       "       'BURGLARY OF WAREHOUSE, UNLAWFUL ENTRY', 'PIMPING',\n",
       "       'DISRUPTS SCHOOL ACTIVITIES',\n",
       "       'CONCEAL CRIME OR WITHHOLD EVIDENCE, ACCEPTING PAYMENT TO',\n",
       "       'ATTEMPTED ROBBERY COMM. ESTABLISHMENT WITH A GUN',\n",
       "       'DAMAGE TO FIRE ALARM APPARATUS', 'THEFT, DRUNK ROLL, $200-$400',\n",
       "       'STOLEN COMPUTER, POSSESSION',\n",
       "       'THEFT, BICYCLE, <$50, NO SERIAL NUMBER',\n",
       "       'PHONE CALLS, HARASSING, TO 911', 'RIOT', 'DOG, BARKING',\n",
       "       'ATTEMPTED ROBBERY OF A BANK WITH A GUN',\n",
       "       'FAILURE TO REGISTER AS NARCOTICS ADDICT',\n",
       "       'ASSAULT TO COMMIT MAYHEM OR SPECIFIC SEX OFFENSES', 'STOLEN BUS',\n",
       "       'SOLICITING COMMISSION OF A CRIME', 'SALE OF ALCOHOL AFTER HOURS',\n",
       "       'SAFE BURGLARY', 'DOG OR CAT, ABANDONMENT OF',\n",
       "       'MINOR ON ON-SALE LICENSED PREMISE', 'RECEIVING STOLEN PROPERTY',\n",
       "       'FIREARM, NEGLIGENT DISCHARGE',\n",
       "       'EVADING A POLICE OFFICER, INJURY OR DEATH',\n",
       "       'DRIVING WHILE UNDER THE INFLUENCE OF DRUGS, W/INJURY',\n",
       "       'SUICIDE BY STRANGULATION',\n",
       "       'REFUSING TO DISPERSE UPON LAWFUL COMMAND', 'INCITING TO RIOT',\n",
       "       'DESTRUCTION OF PROPERTY WITH EXPLOSIVES',\n",
       "       'FIREWORKS, THROW AT PERSON OR DISCHARGE IN CROWD',\n",
       "       'BURGLARY,FLAT UNDER CONSTRUCTION, UNLAWFUL ENTRY',\n",
       "       'BALLOONS, ELECTRICALLY CONDUCTIVE', 'DESERTION OF CHILD',\n",
       "       'LYNCHING BY RIOT', 'PEEPING TOM', 'FURNISHING MARIJUANA',\n",
       "       'ROBBERY OF A RESIDENCE WITH A DANGEROUS WEAPON',\n",
       "       'ROBBERY OF A SERVICE STATION W/DANGEROUS WEAPON',\n",
       "       'DEFRAUDING OF VEHICLE REPAIRMAN', 'DEATH REPORT, IN CUSTODY',\n",
       "       'LICENSE REQUIRED TO SELL ALCOHOL',\n",
       "       'BURGLARY,BLDG. UNDER CONSTRUCTION, ATT. FORCIBLE',\n",
       "       'COUNTERFEITING, PLATES OR DIES', 'ABORTION',\n",
       "       'SUICIDE BY FIREARMS', 'ATTEMPTED SUICIDE BY STRANGULATION',\n",
       "       'ROBBERY OF A SERVICE STATION WITH A GUN', 'MAYHEM WITH A GUN',\n",
       "       'AID OR HARBOR FELON', 'LOITERING',\n",
       "       'FALSE EVIDENCE OF AGE BY MINOR',\n",
       "       'ANIMAL, WITHOUT PROPER CARE OR ATTENTION',\n",
       "       'GRAND THEFT MOTORCYCLE STRIP',\n",
       "       'ROBBERY OF A SERVICE STATION WITH BODILY FORCE',\n",
       "       'FORCIBLE RAPE, ARMED WITH A GUN',\n",
       "       'SEXUAL CONTACT WITH PATIENT, FORMER PATIENT',\n",
       "       'LICENSE PLATE, STOLEN', 'POSSESSION OF EXPLOSIVE DEVICE',\n",
       "       'INDECENT EXPOSURE - PROSTITUTION RELATED',\n",
       "       'IMPERSONATING FIRE DEPARTMENT MEMBER',\n",
       "       'WEAPON, TAKING OR ATTEMPTING TO TAKE FROM PEACE OFFICER',\n",
       "       'SAFE BURGLARY OF A RESIDENCE',\n",
       "       'INMATE/KEEPER OF HOUSE OF PROSTITUTION',\n",
       "       'ATTEMPTED ROBBERY SERVICE STATION WITH A KNIFE',\n",
       "       'SCALPING TICKETS', 'POSSESSION OF OPIUM DERIVATIVE',\n",
       "       'POSSESSION OF METHADONE FOR SALES',\n",
       "       'ATTEMPTED ROBBERY COMM. ESTAB. WITH DEADLY WEAPON',\n",
       "       'IMPERSONATING PUBLIC UTILITY MEMBER', 'SOLICITS LEWD ACT',\n",
       "       'FORCIBLE RAPE, ARMED WITH A DANGEROUS WEAPON',\n",
       "       'FORGERY, GOVERNMENT OR CORPORATE SEALS',\n",
       "       'ATTEMPTED ROBBERY CHAIN STORE WITH DEADLY WEAPON',\n",
       "       'FOOD STAMPS, MISUSE OF',\n",
       "       'INSURED PROPERTY, DESTRUCTION TO DEFRAUD INSURER',\n",
       "       'VEHICLE, RENTAL, FAILURE TO RETURN',\n",
       "       'DEMONSTRATION, VIDEO EVIDENCE, MISC. INVESTIGATION',\n",
       "       'DISASTER AREA, ENTERING OR REMAINING IN',\n",
       "       'DESTROYING JAIL PROPERTY-OVER $200', 'THEFT, DRUNK ROLL, >$400',\n",
       "       'MASSAGE ESTABLISHMENT PERMIT VIOLATION',\n",
       "       'FALSE REPRESENTATION TO SECONDHAND DEALER',\n",
       "       'DISCHARGING OFFENSIVE OR INJURIOUS SUBSTANCE IN PUBLIC AREA',\n",
       "       'LOITERS AROUND PUBLIC TOILET FOR LEWD ACT',\n",
       "       'VIOLATION OF CIVIL GANG INJUNCTION',\n",
       "       'PERMIT VIOLATION, SIDEWALK SALES',\n",
       "       'TRANSPORTATION OF AMPHETAMINE', 'SUICIDE BY LACERATION',\n",
       "       'DISTURBING RELIGIOUS MEETINGS', 'THEFT, GRAND, AGRICULTURAL',\n",
       "       'LOITERING WITHOUT LAWFUL BUSINESS WITH OWNER OR OCCUPANT',\n",
       "       'ATTEMPTED GRAND THEFT PICKPOCKET',\n",
       "       'SELLING/DISCHARGING OF FIRECRACKERS', 'THEFT, ANIMAL, ATT.',\n",
       "       'ATTEMPTED SUICIDE BY FIRE',\n",
       "       'THEFT OF TELECOMMUNICATION SERVICES, INCL. CLONE PHONE',\n",
       "       'ARSON OF A POLICE BUILDING',\n",
       "       'ADVERTISING DISTRIBUTORS PERMIT VIOLATION',\n",
       "       'CIVIL RIGHTS, INCL. INJURY, THREAT, OR DAMAGE (HATE CRIMES)',\n",
       "       'ENCOURAGING MINOR TO USE MARIJUANA',\n",
       "       'TRESPASSING ON RAILROAD TRAINS',\n",
       "       'CITIZENSHIP DOCUMENT, USING FALSE',\n",
       "       'HAZARDOUS MATERIALS, DUMPING IN UNAUTHORIZED LOCATN',\n",
       "       'SALE OF METHADONE', 'RESCUING PRISONER FROM LAWFUL CUSTODY',\n",
       "       'ASSAULT, AGGRAVATED, ON POLICE OFFICER, W/ GUN',\n",
       "       'FINANCIAL STATEMENTS, FALSE',\n",
       "       'EMBEZZLEMENT, PETTY THEFT PUBLIC/PRIVATE OFFICIAL',\n",
       "       'ILLEGAL TRANSPORTAION OF EXPLOSIVES', 'STOLEN METALS, RECEIVING',\n",
       "       'ASSAULT TO RAPE WITH A GUN', 'ASSAULT BY POLICE OFFICER',\n",
       "       'FALSIFICATION OF MEDICAL RECORDS',\n",
       "       'MALICIOUS MISCHIEF, BUILDING UNDER CONSTRUCTION',\n",
       "       'WEAPONS POSSESSION BY JUVENILE SUSPECT',\n",
       "       'VIOLATION OF CALIF UNEMPLOYMENT INSURANCE ACT',\n",
       "       'LASERS, DISCHARGING OR LIGHTS AT AIRCRAFT',\n",
       "       'ATTEMPTED MAYHEM WITH A KNIFE', 'ATTEMPTED RAPE WITH A GUN',\n",
       "       'HAZARDOUS SUBSTANCES, DEPOSITING',\n",
       "       'SAFE BURGLARY OF AN APARTMENT', 'ACCIDENTAL SHOOTING',\n",
       "       'SCHOOL GROUNDS, ENTRY BY SEX OFFENDER',\n",
       "       'BURGLARY,HOTEL UNDER CONSTRUCTION, UNLAWFUL ENTRY',\n",
       "       'OBSCENE MATTER, DISTRIBUTION TO MINORS',\n",
       "       'POSSESSION OF AMPHETAMINE',\n",
       "       \"ASSAULT OR ATTEMPTED MURDER UPON GOV'T OFFICERS\",\n",
       "       'RECOVERED VEHICLE - STOLEN OUTSIDE SF',\n",
       "       'VEHICLE, RECOVERED, CAMPER-HOUSE CAR-MOTOR HOME',\n",
       "       'ATTEMPTED ROBBERY SERVICE STATION W/DEADLY WEAPON',\n",
       "       'VANDALISM WITH NOXIOUS CHEMICAL', 'VEHICLE, RECOVERED, AUTO',\n",
       "       'POSS OF FIREARM SILENCER', 'ESCAPEE, JUVENILE', 'SUICIDE',\n",
       "       'TELEPHONE OR TELEGRAPH MESSAGE, SENDING FALSE',\n",
       "       'POSSESSION OF OPIUM FOR SALES', 'SAFE BURGLARY OF A WAREHOUSE',\n",
       "       'EAVESDROPPING DEVICES, SALE OR USE', 'TAMPERING WITH MAIL',\n",
       "       'BATTERY DURING LABOR DISPUTE', 'VEHICLE, RECOVERED, MOTORCYCLE',\n",
       "       'BURGLARY OF HOTEL ROOM, ATTEMPTED FORCIBLE ENTRY',\n",
       "       'TRANSPORTATION OF METHADONE',\n",
       "       'SELLING RESTRICTED GLUE TO JUVENILES',\n",
       "       'CONTROLLED SUBSTANCE VIOLATION, LOITERING FOR',\n",
       "       'POSSESSION OF GAMBLING PARAPHERNALIA',\n",
       "       'ROBBERY OF A SERVICE STATION WITH A KNIFE',\n",
       "       'GRAND THEFT COIN OPERATED MACHINE',\n",
       "       'ATTEMPTED THEFT COIN OPERATED MACHINE', 'SUICIDE BY DROWNING',\n",
       "       'POSSESSION OF OPIUM', \"MEGAN'S LAW NOTIFICATION\",\n",
       "       'ATTEMPTED AUTO STRIP',\n",
       "       'SALES COCAINE BASE/SCHOOLYARD TRAFFICKING ACT VIO',\n",
       "       'ASSAULT TO RAPE WITH A DANGEROUS WEAPON',\n",
       "       'CRIMES AGAINST REVENUE & PROPERTY OF STATE', 'FORTUNE TELLING',\n",
       "       'VISITING WHERE DRUGS ARE USED OR SMOKED',\n",
       "       'ROBBERY,  ATM, KNIFE, ATT.',\n",
       "       'POSSESSION OF OBSCENE MATTER FOR SALE',\n",
       "       'SCHOOL STUDENT OR EMPLOYEE ENTERING  CAMPUS AFTER SUSPENSION OR DISMISSAL',\n",
       "       'POSSESSION OF OPIUM DERIVATIVE FOR SALES',\n",
       "       'HEATING VIOLATION  APT/HOTEL',\n",
       "       'ASSAULT, AGGRAVATED, ON POLICE OFFICER, W/ SEMI AUTO',\n",
       "       'POSSESSION OF BARBITUATES', 'VIN SWITCH',\n",
       "       'HAZARDOUS MATERIALS, DUMP OIL INTO SEWERS',\n",
       "       'FALSE REPORT OF POLICE MISCONDUCT', 'PETTY THEFT PHONE BOOTH',\n",
       "       'BATHROOM HOLE, LOOKING THROUGH',\n",
       "       'FORGERY, FALSE ENTRIES IN RECORDS OR RETURNS',\n",
       "       'BURGLARY,FLAT UNDER CONSTRUCTION, ATT. FORCIBLE',\n",
       "       'ATTEMPTED SUICIDE BY ASPHYXIATION',\n",
       "       'OPERATING WITHOUT DANCEHALL PERMIT',\n",
       "       'SOLICITS TO VISIT HOUSE OF PROSTITUTION',\n",
       "       'PUBLIC UTILITY INFORMATION, FRAUDULENTLY OBTAINING',\n",
       "       'EMBEZZLEMENT, PETTY THEFT PRIVATE PROPERTY',\n",
       "       'ATTEMPTED RAPE, ARMED WITH A SHARP INSTRUMENT',\n",
       "       'GUIDE DOG, INTERFERING WITH', 'TRANSPORTATION OF HALLUCINOGENIC',\n",
       "       'ACCESS CARD INFORMATION, PUBLICATION OF',\n",
       "       'ASSAULT, AGGRAVATED, W/ MACHINE GUN',\n",
       "       'ASSAULT, AGGRAVATED, W/ SEMI AUTO', 'LODGING IN PARK', 'ESCAPES',\n",
       "       'DRIVING, DRAG RACING', 'PERJURY', 'ASSAULT BY POISONING',\n",
       "       'LOUDSPEAKER OR SOUND TRUCK PERMIT VIOLATION',\n",
       "       'DRUG OFFENDER, PRESENCE  NEAR SCHOOL GROUNDS',\n",
       "       'MISPLACED VEHICLE', 'ESCAPE FROM HOSPITAL WITH FORCE',\n",
       "       'POSSESSION OF MACHINE GUN',\n",
       "       'MONEY OFFENSE RELATED TO NARCOTICS TRAFFICKING',\n",
       "       'KIDNAPPER, POSING AS', 'COMMISSION OF FELONY WHILE ARMED',\n",
       "       'DESTRUCTIVE DEVICE, POSSESSION OF MATERIALS',\n",
       "       'JUVENILE PAROLE VIOLATOR', 'SHORT CHANGE, GRAND THEFT',\n",
       "       'VEHICLE, RECOVERED, OTHER VEHICLE', 'THEFT, DRUNK ROLL, ATT.',\n",
       "       'SALE OF ALCOHOL BY MINOR', 'MALICIOUS MISCHIEF',\n",
       "       'PROCUREMENT, PIMPING, & PANDERING',\n",
       "       'POSSESSION OF BARBITUATES FOR SALES',\n",
       "       'SALE OF ALCOHOL TO MINOR IN BAR',\n",
       "       'HAZARDOUS MATERIALS, DUMPING IN UNAUTHORIZED LOCATION',\n",
       "       'OBSTRUCTING HEALTH FACILITY, PLACE OF WORSHIP, OR SCHOOL',\n",
       "       'POLICE BROADCAST, INTERCEPTION TO COMMIT CRIME',\n",
       "       'ATTEMPTED ROBBERY OF A BANK WITH A KNIFE',\n",
       "       'ATTEMPTED ROBBERY CHAIN STORE WITH A GUN',\n",
       "       'ATTEMPTED ROBBERY COMM. ESTABLISHMENT W/KNIFE',\n",
       "       'ASSAULT, AGGRAVATED, ON POLICE OFFICER, W/ FULL AUTO',\n",
       "       'DISPLAY & SALE OF SPRAY PAINT & MARKER PENS',\n",
       "       'ATTEMPTED RAPE, ARMED WITH A DANGEROUS WEAPON',\n",
       "       'AGGRAVATED ASSAULT ON POLICE OFFICER WITH A GUN',\n",
       "       'BRIBERY OF WITNESSES',\n",
       "       'HAZARDOUS MATERIALS,  DUMP ANY SUBSTANCE INTO WATER',\n",
       "       'DOG, FIGHTING;  OWNING, FIGHTING, OR ATTENDING FIGHT',\n",
       "       'PUTTING SLUGS IN COIN OPERATED MACHINES',\n",
       "       'ATTEMPTED ROBBERY SERVICE STATION W/BODILY FORCE',\n",
       "       'SOLICITING MINOR TO COMMIT FELONY',\n",
       "       'EMBEZZLEMENT, GRAND THEFT BY COLLECTOR', 'POISONING ANIMALS',\n",
       "       'TERRORIZING BY ARSON OR EXPLOSIVE DEVICE',\n",
       "       'WEARING THE APPAREL OF OPPOSITE SEX TO DECEIVE',\n",
       "       'VEHICLE, RECOVERED, MOBILE HOME-TRAILER', 'SALE OF AMPHETAMINE',\n",
       "       'EMBEZZLEMENT, GRAND THEFT PRIVATE PROPERTY',\n",
       "       'BURGLARY,APT UNDER CONSTRUCTION, ATT. FORCIBLE',\n",
       "       'ROBBERY, VEHICLE FOR HIRE, ATT., W/ GUN',\n",
       "       'ASSAULT TO RAPE WITH A SHARP INSTRUMENT',\n",
       "       'MINOR PURCHASING ALCOHOL', 'SUICIDE BY INGESTION',\n",
       "       'HAZARDOUS MATERIALS, SPILL LOAD',\n",
       "       'EMBEZZLEMENT, GRAND THEFT BY PROPERTY CARRIER',\n",
       "       'HAZARDOUS MATERIALS, FAILURE TO COMPLY W/REGULATIONS',\n",
       "       'ROBBERY, VEHICLE FOR HIRE, ATT., W/ FORCE',\n",
       "       'ALCOHOLIC BEVERAGE, PROCURING SALE OF',\n",
       "       'ASSAULT TO ROB WITH BODILY FORCE',\n",
       "       'VIOLATION OF STATE LABOR CODE', 'YOUTH COURT', 'ESCAPE FROM JAIL',\n",
       "       'BATTERY BY JUVENILE SUSPECT',\n",
       "       'BURGLARY,WAREHOUSE UNDER CONSTRT, UNLAWFUL ENTRY',\n",
       "       'ATTEMPTED ROBBERY SERVICE STATION WITH A GUN',\n",
       "       'DRUG LAB APPARATUS, POSSESSION',\n",
       "       'PUSH-CART PEDDLER PERMIT VIOLATION',\n",
       "       'ATTEMPTED SUICIDE BY FIREARMS', 'INCEST',\n",
       "       'ENCOURAGE MINOR TO USE CONTROLLED SUBSTANCE',\n",
       "       'BIGAMY, INCEST, AND THE CRIME AGAINST NATURE (GENERAL)',\n",
       "       'DISTURBANCE OF NON-RELIGIOUS, NON-POLITICAL ASSEMBLY',\n",
       "       'POSS OF FIRE BOMB',\n",
       "       'CITIZENSHIP OR ALIEN REGISTRATION, MAKING FALSE DOCUMENT',\n",
       "       'FAILURE TO PROVIDE FOR PARENTS',\n",
       "       'CABLE TV CONNECTION OR DECODING DEVICE, UNAUTHORIZED',\n",
       "       'SALE OF SATELLITE TELEPHONE NUMBER',\n",
       "       'SNIPER SCOPE, POSSESSION OF',\n",
       "       'TERRORIZING BY MARKING PRIVATE PROPERTY',\n",
       "       'OBSCENE OR LEWD PLAYS/PERFORMANCES',\n",
       "       'ESCAPE OF PRISONER WHILE HOSPITALIZED',\n",
       "       'INJURY TO RAILROADS/RAILROAD BRIDGES',\n",
       "       'OPERATING WITHOUT CABARET PERMIT', 'SALE OF BARBITUATES',\n",
       "       'BOOKMAKING', 'PUTTING SLUGS IN TELEPHONE BOX',\n",
       "       'AFFIXING ADVERTISMENTS TO POLES',\n",
       "       'EMBEZZLEMENT, PETTY THEFT BY BROOKERS/AGENTS', 'ACCIDENTAL BURNS',\n",
       "       'SAFE BURGLARY OF A FLAT', 'SUICIDE BY FIRE',\n",
       "       'PUTTING SLUGS IN PARKING METERS',\n",
       "       'CONCEALMENT/REMOVAL OF CHILD WITHOUT CONSENT',\n",
       "       'ENCOURAGING MINOR TO USE COCAINE', 'ATTEMPTED MOTORCYCLE STRIP',\n",
       "       'ENCOURAGE MINOR TO USE BARBITUATES', 'ARSON OF A POLICE VEHICLE',\n",
       "       'ILLEGAL CHARITABLE SOLICITATIONS', 'OBSCENE MOVIES/ACTS',\n",
       "       'PLACING WIFE IN HOUSE OF PROSTITUTION',\n",
       "       'ATTEMPTED MAYHEM WITH A GUN', 'OVERCHARGING TAXI FARE',\n",
       "       'UNKNOWN COMPLAINT', 'ASSAULT BY JUVENILE SUSPECT',\n",
       "       'UNAUTHORIZED USE OF LOUD SPEAKERS', 'FRAUDULENT AUCTION',\n",
       "       'SALE OF OPIUM DERIVATIVE',\n",
       "       'SAFE BURGLARY OF A WAREHOUSE WITH EXPLOSIVES',\n",
       "       'AGGRAVATED ASSAULT OF POLICE OFFICER, SNIPING',\n",
       "       'BURGLARY,WAREHOUSE UNDER CONSTRT, ATT. FORCIBLE',\n",
       "       'ATTEMPTED HOMICIDE WITH EXPLOSIVES',\n",
       "       'PURCHASE FEMALE FOR THE PURPOSE OF PROSTITUTION',\n",
       "       'GRAND THEFT PHONE BOOTH', 'ATTEMPTED THEFT PHONE BOOTH',\n",
       "       'VEHICLE, RECOVERED, BUS', 'ATTEMPTED SUICIDE BY DROWNING',\n",
       "       'ASSAULT TO ROB BANK WITH A GUN',\n",
       "       'BURGLARY,HOTEL UNDER CONSTRUCTION, ATT. FORCIBLE',\n",
       "       'PLANTING/CULTIVATING PEYOTE', 'REFUSAL TO IDENTIFY',\n",
       "       'SHOOTING BY JUVENILE SUSPECT',\n",
       "       'DESTROYING JAIL PROPERTY-$200 OR UNDER',\n",
       "       'EMBEZZLEMENT, GRAND THEFT PUBLIC/PRIVATE OFFICIAL'], dtype=object)"
      ]
     },
     "execution_count": 29,
     "metadata": {},
     "output_type": "execute_result"
    }
   ],
   "source": [
    "tmp2['Descript'].unique()"
   ]
  },
  {
   "cell_type": "code",
   "execution_count": 30,
   "metadata": {},
   "outputs": [
    {
     "data": {
      "text/plain": [
       "879"
      ]
     },
     "execution_count": 30,
     "metadata": {},
     "output_type": "execute_result"
    }
   ],
   "source": [
    "len(tmp2['Descript'].unique())\n",
    "\n",
    "# 범죄 설명 : 879 개"
   ]
  },
  {
   "cell_type": "code",
   "execution_count": 46,
   "metadata": {},
   "outputs": [
    {
     "data": {
      "text/plain": [
       "False"
      ]
     },
     "execution_count": 46,
     "metadata": {},
     "output_type": "execute_result"
    }
   ],
   "source": [
    "tmp2['Descript'].isnull().any()\n",
    "\n",
    "# null값이 없음."
   ]
  },
  {
   "cell_type": "code",
   "execution_count": 31,
   "metadata": {},
   "outputs": [
    {
     "data": {
      "text/plain": [
       "array(['Wednesday', 'Tuesday', 'Monday', 'Sunday', 'Saturday', 'Friday',\n",
       "       'Thursday'], dtype=object)"
      ]
     },
     "execution_count": 31,
     "metadata": {},
     "output_type": "execute_result"
    }
   ],
   "source": [
    "tmp2['DayOfWeek'].unique()"
   ]
  },
  {
   "cell_type": "code",
   "execution_count": 32,
   "metadata": {},
   "outputs": [
    {
     "data": {
      "text/plain": [
       "7"
      ]
     },
     "execution_count": 32,
     "metadata": {},
     "output_type": "execute_result"
    }
   ],
   "source": [
    "len(tmp2['DayOfWeek'].unique())"
   ]
  },
  {
   "cell_type": "code",
   "execution_count": 47,
   "metadata": {},
   "outputs": [
    {
     "data": {
      "text/plain": [
       "False"
      ]
     },
     "execution_count": 47,
     "metadata": {},
     "output_type": "execute_result"
    }
   ],
   "source": [
    "tmp2['DayOfWeek'].isnull().any()\n",
    "\n",
    "# null값이 없음."
   ]
  },
  {
   "cell_type": "code",
   "execution_count": 33,
   "metadata": {},
   "outputs": [
    {
     "data": {
      "text/plain": [
       "array(['NORTHERN', 'PARK', 'INGLESIDE', 'BAYVIEW', 'RICHMOND', 'CENTRAL',\n",
       "       'TARAVAL', 'TENDERLOIN', 'MISSION', 'SOUTHERN'], dtype=object)"
      ]
     },
     "execution_count": 33,
     "metadata": {},
     "output_type": "execute_result"
    }
   ],
   "source": [
    "tmp2['PdDistrict'].unique()"
   ]
  },
  {
   "cell_type": "code",
   "execution_count": 34,
   "metadata": {},
   "outputs": [
    {
     "data": {
      "text/plain": [
       "10"
      ]
     },
     "execution_count": 34,
     "metadata": {},
     "output_type": "execute_result"
    }
   ],
   "source": [
    "len(tmp2['PdDistrict'].unique())"
   ]
  },
  {
   "cell_type": "code",
   "execution_count": 48,
   "metadata": {},
   "outputs": [
    {
     "data": {
      "text/plain": [
       "False"
      ]
     },
     "execution_count": 48,
     "metadata": {},
     "output_type": "execute_result"
    }
   ],
   "source": [
    "tmp2['PdDistrict'].isnull().any()\n",
    "\n",
    "# null값이 없음."
   ]
  },
  {
   "cell_type": "code",
   "execution_count": 35,
   "metadata": {},
   "outputs": [
    {
     "data": {
      "text/plain": [
       "array(['ARREST, BOOKED', 'NONE', 'ARREST, CITED', 'PSYCHOPATHIC CASE',\n",
       "       'JUVENILE BOOKED', 'UNFOUNDED', 'EXCEPTIONAL CLEARANCE', 'LOCATED',\n",
       "       'CLEARED-CONTACT JUVENILE FOR MORE INFO', 'NOT PROSECUTED',\n",
       "       'JUVENILE DIVERTED', 'COMPLAINANT REFUSES TO PROSECUTE',\n",
       "       'JUVENILE ADMONISHED', 'JUVENILE CITED',\n",
       "       'DISTRICT ATTORNEY REFUSES TO PROSECUTE',\n",
       "       'PROSECUTED BY OUTSIDE AGENCY', 'PROSECUTED FOR LESSER OFFENSE'],\n",
       "      dtype=object)"
      ]
     },
     "execution_count": 35,
     "metadata": {},
     "output_type": "execute_result"
    }
   ],
   "source": [
    "tmp2['Resolution'].unique()"
   ]
  },
  {
   "cell_type": "code",
   "execution_count": 36,
   "metadata": {},
   "outputs": [
    {
     "data": {
      "text/plain": [
       "17"
      ]
     },
     "execution_count": 36,
     "metadata": {},
     "output_type": "execute_result"
    }
   ],
   "source": [
    "len(tmp2['Resolution'].unique())"
   ]
  },
  {
   "cell_type": "code",
   "execution_count": 49,
   "metadata": {},
   "outputs": [
    {
     "data": {
      "text/plain": [
       "False"
      ]
     },
     "execution_count": 49,
     "metadata": {},
     "output_type": "execute_result"
    }
   ],
   "source": [
    "tmp2['Resolution'].isnull().any()\n",
    "\n",
    "# null값이 없음."
   ]
  },
  {
   "cell_type": "code",
   "execution_count": 37,
   "metadata": {},
   "outputs": [
    {
     "data": {
      "text/plain": [
       "array(['OAK ST / LAGUNA ST', 'VANNESS AV / GREENWICH ST',\n",
       "       '1500 Block of LOMBARD ST', ..., '300 Block of JOHN F KENNEDY DR',\n",
       "       'FOLSOM ST / ZENO PL', '1000 Block of 22ND AV'], dtype=object)"
      ]
     },
     "execution_count": 37,
     "metadata": {},
     "output_type": "execute_result"
    }
   ],
   "source": [
    "tmp2['Address'].unique()"
   ]
  },
  {
   "cell_type": "code",
   "execution_count": 38,
   "metadata": {},
   "outputs": [
    {
     "data": {
      "text/plain": [
       "23228"
      ]
     },
     "execution_count": 38,
     "metadata": {},
     "output_type": "execute_result"
    }
   ],
   "source": [
    "len(tmp2['Address'].unique())"
   ]
  },
  {
   "cell_type": "code",
   "execution_count": 50,
   "metadata": {},
   "outputs": [
    {
     "data": {
      "text/plain": [
       "False"
      ]
     },
     "execution_count": 50,
     "metadata": {},
     "output_type": "execute_result"
    }
   ],
   "source": [
    "tmp2['Address'].isnull().any()\n",
    "\n",
    "# null값이 없음."
   ]
  },
  {
   "cell_type": "code",
   "execution_count": 51,
   "metadata": {},
   "outputs": [
    {
     "data": {
      "text/plain": [
       "array([-122.42589168, -122.42436302, -122.42699533, ..., -122.48124622,\n",
       "       -122.41850208, -122.39492572])"
      ]
     },
     "execution_count": 51,
     "metadata": {},
     "output_type": "execute_result"
    }
   ],
   "source": [
    "tmp2['X'].unique()"
   ]
  },
  {
   "cell_type": "code",
   "execution_count": 52,
   "metadata": {},
   "outputs": [
    {
     "data": {
      "text/plain": [
       "34243"
      ]
     },
     "execution_count": 52,
     "metadata": {},
     "output_type": "execute_result"
    }
   ],
   "source": [
    "len(tmp2['X'].unique())"
   ]
  },
  {
   "cell_type": "code",
   "execution_count": 53,
   "metadata": {},
   "outputs": [
    {
     "data": {
      "text/plain": [
       "False"
      ]
     },
     "execution_count": 53,
     "metadata": {},
     "output_type": "execute_result"
    }
   ],
   "source": [
    "tmp2['X'].isnull().any()\n",
    "\n",
    "# null값이 없음."
   ]
  },
  {
   "cell_type": "code",
   "execution_count": 54,
   "metadata": {},
   "outputs": [
    {
     "data": {
      "text/plain": [
       "array([37.7745986 , 37.80041432, 37.80087263, ..., 37.77644744,\n",
       "       37.73394539, 37.73821154])"
      ]
     },
     "execution_count": 54,
     "metadata": {},
     "output_type": "execute_result"
    }
   ],
   "source": [
    "tmp2['Y'].unique()"
   ]
  },
  {
   "cell_type": "code",
   "execution_count": 55,
   "metadata": {},
   "outputs": [
    {
     "data": {
      "text/plain": [
       "34243"
      ]
     },
     "execution_count": 55,
     "metadata": {},
     "output_type": "execute_result"
    }
   ],
   "source": [
    "len(tmp2['Y'].unique())"
   ]
  },
  {
   "cell_type": "code",
   "execution_count": 56,
   "metadata": {},
   "outputs": [
    {
     "data": {
      "text/plain": [
       "False"
      ]
     },
     "execution_count": 56,
     "metadata": {},
     "output_type": "execute_result"
    }
   ],
   "source": [
    "tmp2['Y'].isnull().any()\n",
    "\n",
    "# null값이 없음."
   ]
  },
  {
   "cell_type": "code",
   "execution_count": null,
   "metadata": {},
   "outputs": [],
   "source": []
  },
  {
   "cell_type": "code",
   "execution_count": null,
   "metadata": {},
   "outputs": [],
   "source": []
  },
  {
   "cell_type": "code",
   "execution_count": null,
   "metadata": {},
   "outputs": [],
   "source": []
  },
  {
   "cell_type": "code",
   "execution_count": 65,
   "metadata": {},
   "outputs": [
    {
     "data": {
      "text/plain": [
       "str"
      ]
     },
     "execution_count": 65,
     "metadata": {},
     "output_type": "execute_result"
    }
   ],
   "source": [
    "type(tmp2['Dates'][0])"
   ]
  },
  {
   "cell_type": "code",
   "execution_count": 68,
   "metadata": {},
   "outputs": [],
   "source": [
    "dt = datetime.datetime(2018, 11, 24, 17, 24)"
   ]
  },
  {
   "cell_type": "code",
   "execution_count": 70,
   "metadata": {},
   "outputs": [
    {
     "data": {
      "text/plain": [
       "1543047840.0"
      ]
     },
     "execution_count": 70,
     "metadata": {},
     "output_type": "execute_result"
    }
   ],
   "source": [
    "time.mktime(dt.timetuple())"
   ]
  },
  {
   "cell_type": "code",
   "execution_count": 73,
   "metadata": {},
   "outputs": [
    {
     "data": {
      "text/plain": [
       "datetime.datetime(2018, 11, 24, 17, 24)"
      ]
     },
     "execution_count": 73,
     "metadata": {},
     "output_type": "execute_result"
    }
   ],
   "source": [
    "datetime.fromtimestamp(1543047840.0)"
   ]
  },
  {
   "cell_type": "code",
   "execution_count": 83,
   "metadata": {},
   "outputs": [
    {
     "data": {
      "text/plain": [
       "datetime.datetime(2018, 11, 24, 0, 0)"
      ]
     },
     "execution_count": 83,
     "metadata": {},
     "output_type": "execute_result"
    }
   ],
   "source": [
    "dt2 = datetime(2018, 11, 24)\n",
    "time.mktime(dt2.timetuple())\n",
    "datetime.fromtimestamp(1542985200.0)"
   ]
  },
  {
   "cell_type": "code",
   "execution_count": 81,
   "metadata": {},
   "outputs": [
    {
     "data": {
      "text/plain": [
       "datetime.datetime(2018, 11, 24, 0, 0)"
      ]
     },
     "execution_count": 81,
     "metadata": {},
     "output_type": "execute_result"
    }
   ],
   "source": [
    "dt2"
   ]
  },
  {
   "cell_type": "code",
   "execution_count": 89,
   "metadata": {},
   "outputs": [
    {
     "data": {
      "text/plain": [
       "datetime.datetime(2003, 1, 6, 0, 1)"
      ]
     },
     "execution_count": 89,
     "metadata": {},
     "output_type": "execute_result"
    }
   ],
   "source": [
    "startdate = datetime(2003, 1, 6, 0, 1)\n",
    "time.mktime(startdate.timetuple())\n",
    "datetime.fromtimestamp(1041778860.0)"
   ]
  },
  {
   "cell_type": "code",
   "execution_count": 92,
   "metadata": {},
   "outputs": [
    {
     "data": {
      "text/plain": [
       "datetime.datetime(2015, 5, 13, 23, 53)"
      ]
     },
     "execution_count": 92,
     "metadata": {},
     "output_type": "execute_result"
    }
   ],
   "source": [
    "lastdate = datetime(2015, 5, 13, 23, 53)\n",
    "time.mktime(lastdate.timetuple())\n",
    "datetime.fromtimestamp(1431528780.0)"
   ]
  },
  {
   "cell_type": "code",
   "execution_count": 93,
   "metadata": {},
   "outputs": [
    {
     "data": {
      "text/plain": [
       "389749920.0"
      ]
     },
     "execution_count": 93,
     "metadata": {},
     "output_type": "execute_result"
    }
   ],
   "source": [
    "1431528780.0-1041778860.0"
   ]
  },
  {
   "cell_type": "code",
   "execution_count": null,
   "metadata": {},
   "outputs": [],
   "source": []
  }
 ],
 "metadata": {
  "kernelspec": {
   "display_name": "Python 3",
   "language": "python",
   "name": "python3"
  },
  "language_info": {
   "codemirror_mode": {
    "name": "ipython",
    "version": 3
   },
   "file_extension": ".py",
   "mimetype": "text/x-python",
   "name": "python",
   "nbconvert_exporter": "python",
   "pygments_lexer": "ipython3",
   "version": "3.6.5"
  }
 },
 "nbformat": 4,
 "nbformat_minor": 2
}
