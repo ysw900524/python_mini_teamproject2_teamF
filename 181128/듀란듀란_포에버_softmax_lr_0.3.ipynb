{
 "cells": [
  {
   "cell_type": "code",
   "execution_count": 1,
   "metadata": {},
   "outputs": [
    {
     "name": "stderr",
     "output_type": "stream",
     "text": [
      "C:\\Python\\Anaconda3-52\\lib\\site-packages\\h5py\\__init__.py:36: FutureWarning: Conversion of the second argument of issubdtype from `float` to `np.floating` is deprecated. In future, it will be treated as `np.float64 == np.dtype(float).type`.\n",
      "  from ._conv import register_converters as _register_converters\n"
     ]
    }
   ],
   "source": [
    "import pandas as pd\n",
    "from datetime import datetime\n",
    "import time\n",
    "import numpy as np\n",
    "import re\n",
    "import datetime\n",
    "\n",
    "import tensorflow as tf"
   ]
  },
  {
   "cell_type": "code",
   "execution_count": 2,
   "metadata": {},
   "outputs": [],
   "source": [
    "df = pd.read_csv('./team_project_2/basic_dataset/SanFrancisco_Crime_Classification/tmp_theft.csv',encoding = 'utf-8')"
   ]
  },
  {
   "cell_type": "code",
   "execution_count": 3,
   "metadata": {},
   "outputs": [],
   "source": [
    "del df[\"Unnamed: 0\"]"
   ]
  },
  {
   "cell_type": "code",
   "execution_count": 4,
   "metadata": {},
   "outputs": [
    {
     "name": "stdout",
     "output_type": "stream",
     "text": [
      "X_category: [-122.51364206429, -122.110913651432, -121.708185238574, -121.30545682571599, -120.902728412858, -120.5]\n",
      "Y_category: [37.7079683645097, 48.166374691607764, 58.62478101870582, 69.08318734580388, 79.54159367290194, 90.0]\n"
     ]
    }
   ],
   "source": [
    "# 가로, 세로를 몇 개로 나눌지 x_n, y_n만 바꾸면 됨\n",
    "x_n=5\n",
    "y_n=5\n",
    "X_category=[]\n",
    "for i in range(x_n+1):\n",
    "    x_category = min(df['X'])+ ((max(df['X'])-min(df['X']))/x_n)*(i)\n",
    "    X_category.append(x_category)\n",
    "print(\"X_category:\",X_category)\n",
    "\n",
    "Y_category=[]\n",
    "for i in range(y_n+1):\n",
    "    y_category = min(df['Y'])+ ((max(df['Y'])-min(df['Y']))/y_n)*(i)\n",
    "    Y_category.append(y_category)\n",
    "print(\"Y_category:\",Y_category)"
   ]
  },
  {
   "cell_type": "code",
   "execution_count": 5,
   "metadata": {},
   "outputs": [
    {
     "data": {
      "text/plain": [
       "174900"
      ]
     },
     "execution_count": 5,
     "metadata": {},
     "output_type": "execute_result"
    }
   ],
   "source": [
    "X=[]\n",
    "for idx in range(len(df['X'])):\n",
    "    if df['X'][idx] <= X_category[1]:\n",
    "        X.append((X_category[1]+X_category[0])/2)\n",
    "        continue\n",
    "    if df['X'][idx] <= X_category[2]:\n",
    "        X.append((X_category[2]+X_category[1])/2)\n",
    "        continue\n",
    "    if df['X'][idx] <= X_category[3]:\n",
    "        X.append((X_category[3]+X_category[2])/2)\n",
    "        continue\n",
    "    if df['X'][idx] <= X_category[4]:\n",
    "        X.append((X_category[4]+X_category[3])/2) \n",
    "        continue\n",
    "    else:\n",
    "        X.append((X_category[5]+X_category[4])/2)        \n",
    "len(X)"
   ]
  },
  {
   "cell_type": "code",
   "execution_count": 6,
   "metadata": {},
   "outputs": [
    {
     "data": {
      "text/plain": [
       "174900"
      ]
     },
     "execution_count": 6,
     "metadata": {},
     "output_type": "execute_result"
    }
   ],
   "source": [
    "Y=[]\n",
    "for idx in range(len(df['Y'])):\n",
    "    if df['Y'][idx] <= Y_category[1]:\n",
    "        Y.append((Y_category[1]+Y_category[0])/2)\n",
    "        continue\n",
    "    if df['Y'][idx] <= Y_category[2]:\n",
    "        Y.append((Y_category[2]+Y_category[1])/2)\n",
    "        continue\n",
    "    if df['Y'][idx] <= Y_category[3]:\n",
    "        Y.append((Y_category[3]+Y_category[2])/2)\n",
    "        continue\n",
    "    if df['Y'][idx] <= Y_category[4]:\n",
    "        Y.append((Y_category[4]+Y_category[3])/2) \n",
    "        continue\n",
    "    else:\n",
    "        Y.append((Y_category[5]+Y_category[4])/2)\n",
    "len(Y)"
   ]
  },
  {
   "cell_type": "code",
   "execution_count": 7,
   "metadata": {},
   "outputs": [],
   "source": [
    "df_X=pd.DataFrame(X).rename(columns={0:'X_group'})\n",
    "df_Y=pd.DataFrame(Y).rename(columns={0:'Y_group'})"
   ]
  },
  {
   "cell_type": "code",
   "execution_count": 8,
   "metadata": {},
   "outputs": [
    {
     "data": {
      "text/html": [
       "<div>\n",
       "<style scoped>\n",
       "    .dataframe tbody tr th:only-of-type {\n",
       "        vertical-align: middle;\n",
       "    }\n",
       "\n",
       "    .dataframe tbody tr th {\n",
       "        vertical-align: top;\n",
       "    }\n",
       "\n",
       "    .dataframe thead th {\n",
       "        text-align: right;\n",
       "    }\n",
       "</style>\n",
       "<table border=\"1\" class=\"dataframe\">\n",
       "  <thead>\n",
       "    <tr style=\"text-align: right;\">\n",
       "      <th></th>\n",
       "      <th>Dates</th>\n",
       "      <th>Category</th>\n",
       "      <th>Descript</th>\n",
       "      <th>DayOfWeek</th>\n",
       "      <th>PdDistrict</th>\n",
       "      <th>Resolution</th>\n",
       "      <th>Address</th>\n",
       "      <th>X</th>\n",
       "      <th>Y</th>\n",
       "      <th>Date</th>\n",
       "      <th>...</th>\n",
       "      <th>INGLESIDE</th>\n",
       "      <th>MISSION</th>\n",
       "      <th>NORTHERN</th>\n",
       "      <th>PARK</th>\n",
       "      <th>RICHMOND</th>\n",
       "      <th>SOUTHERN</th>\n",
       "      <th>TARAVAL</th>\n",
       "      <th>TENDERLOIN</th>\n",
       "      <th>X_group</th>\n",
       "      <th>Y_group</th>\n",
       "    </tr>\n",
       "  </thead>\n",
       "  <tbody>\n",
       "    <tr>\n",
       "      <th>0</th>\n",
       "      <td>2015-05-13 23:30:00</td>\n",
       "      <td>LARCENY/THEFT</td>\n",
       "      <td>GRAND THEFT FROM LOCKED AUTO</td>\n",
       "      <td>Wednesday</td>\n",
       "      <td>NORTHERN</td>\n",
       "      <td>NONE</td>\n",
       "      <td>1500 Block of LOMBARD ST</td>\n",
       "      <td>-122.426995</td>\n",
       "      <td>37.800873</td>\n",
       "      <td>2015-05-13 23:30:00</td>\n",
       "      <td>...</td>\n",
       "      <td>0</td>\n",
       "      <td>0</td>\n",
       "      <td>1</td>\n",
       "      <td>0</td>\n",
       "      <td>0</td>\n",
       "      <td>0</td>\n",
       "      <td>0</td>\n",
       "      <td>0</td>\n",
       "      <td>-122.312278</td>\n",
       "      <td>42.937172</td>\n",
       "    </tr>\n",
       "    <tr>\n",
       "      <th>1</th>\n",
       "      <td>2015-05-13 23:30:00</td>\n",
       "      <td>LARCENY/THEFT</td>\n",
       "      <td>GRAND THEFT FROM LOCKED AUTO</td>\n",
       "      <td>Wednesday</td>\n",
       "      <td>PARK</td>\n",
       "      <td>NONE</td>\n",
       "      <td>100 Block of BRODERICK ST</td>\n",
       "      <td>-122.438738</td>\n",
       "      <td>37.771541</td>\n",
       "      <td>2015-05-13 23:30:00</td>\n",
       "      <td>...</td>\n",
       "      <td>0</td>\n",
       "      <td>0</td>\n",
       "      <td>0</td>\n",
       "      <td>1</td>\n",
       "      <td>0</td>\n",
       "      <td>0</td>\n",
       "      <td>0</td>\n",
       "      <td>0</td>\n",
       "      <td>-122.312278</td>\n",
       "      <td>42.937172</td>\n",
       "    </tr>\n",
       "    <tr>\n",
       "      <th>2</th>\n",
       "      <td>2015-05-13 23:30:00</td>\n",
       "      <td>LARCENY/THEFT</td>\n",
       "      <td>GRAND THEFT FROM UNLOCKED AUTO</td>\n",
       "      <td>Wednesday</td>\n",
       "      <td>INGLESIDE</td>\n",
       "      <td>NONE</td>\n",
       "      <td>0 Block of TEDDY AV</td>\n",
       "      <td>-122.403252</td>\n",
       "      <td>37.713431</td>\n",
       "      <td>2015-05-13 23:30:00</td>\n",
       "      <td>...</td>\n",
       "      <td>1</td>\n",
       "      <td>0</td>\n",
       "      <td>0</td>\n",
       "      <td>0</td>\n",
       "      <td>0</td>\n",
       "      <td>0</td>\n",
       "      <td>0</td>\n",
       "      <td>0</td>\n",
       "      <td>-122.312278</td>\n",
       "      <td>42.937172</td>\n",
       "    </tr>\n",
       "    <tr>\n",
       "      <th>3</th>\n",
       "      <td>2015-05-13 23:00:00</td>\n",
       "      <td>LARCENY/THEFT</td>\n",
       "      <td>GRAND THEFT FROM LOCKED AUTO</td>\n",
       "      <td>Wednesday</td>\n",
       "      <td>RICHMOND</td>\n",
       "      <td>NONE</td>\n",
       "      <td>600 Block of 47TH AV</td>\n",
       "      <td>-122.508194</td>\n",
       "      <td>37.776601</td>\n",
       "      <td>2015-05-13 23:00:00</td>\n",
       "      <td>...</td>\n",
       "      <td>0</td>\n",
       "      <td>0</td>\n",
       "      <td>0</td>\n",
       "      <td>0</td>\n",
       "      <td>1</td>\n",
       "      <td>0</td>\n",
       "      <td>0</td>\n",
       "      <td>0</td>\n",
       "      <td>-122.312278</td>\n",
       "      <td>42.937172</td>\n",
       "    </tr>\n",
       "    <tr>\n",
       "      <th>4</th>\n",
       "      <td>2015-05-13 23:00:00</td>\n",
       "      <td>LARCENY/THEFT</td>\n",
       "      <td>GRAND THEFT FROM LOCKED AUTO</td>\n",
       "      <td>Wednesday</td>\n",
       "      <td>CENTRAL</td>\n",
       "      <td>NONE</td>\n",
       "      <td>JEFFERSON ST / LEAVENWORTH ST</td>\n",
       "      <td>-122.419088</td>\n",
       "      <td>37.807802</td>\n",
       "      <td>2015-05-13 23:00:00</td>\n",
       "      <td>...</td>\n",
       "      <td>0</td>\n",
       "      <td>0</td>\n",
       "      <td>0</td>\n",
       "      <td>0</td>\n",
       "      <td>0</td>\n",
       "      <td>0</td>\n",
       "      <td>0</td>\n",
       "      <td>0</td>\n",
       "      <td>-122.312278</td>\n",
       "      <td>42.937172</td>\n",
       "    </tr>\n",
       "  </tbody>\n",
       "</table>\n",
       "<p>5 rows × 39 columns</p>\n",
       "</div>"
      ],
      "text/plain": [
       "                 Dates       Category                        Descript  \\\n",
       "0  2015-05-13 23:30:00  LARCENY/THEFT    GRAND THEFT FROM LOCKED AUTO   \n",
       "1  2015-05-13 23:30:00  LARCENY/THEFT    GRAND THEFT FROM LOCKED AUTO   \n",
       "2  2015-05-13 23:30:00  LARCENY/THEFT  GRAND THEFT FROM UNLOCKED AUTO   \n",
       "3  2015-05-13 23:00:00  LARCENY/THEFT    GRAND THEFT FROM LOCKED AUTO   \n",
       "4  2015-05-13 23:00:00  LARCENY/THEFT    GRAND THEFT FROM LOCKED AUTO   \n",
       "\n",
       "   DayOfWeek PdDistrict Resolution                        Address           X  \\\n",
       "0  Wednesday   NORTHERN       NONE       1500 Block of LOMBARD ST -122.426995   \n",
       "1  Wednesday       PARK       NONE      100 Block of BRODERICK ST -122.438738   \n",
       "2  Wednesday  INGLESIDE       NONE            0 Block of TEDDY AV -122.403252   \n",
       "3  Wednesday   RICHMOND       NONE           600 Block of 47TH AV -122.508194   \n",
       "4  Wednesday    CENTRAL       NONE  JEFFERSON ST / LEAVENWORTH ST -122.419088   \n",
       "\n",
       "           Y                 Date    ...      INGLESIDE  MISSION  NORTHERN  \\\n",
       "0  37.800873  2015-05-13 23:30:00    ...              0        0         1   \n",
       "1  37.771541  2015-05-13 23:30:00    ...              0        0         0   \n",
       "2  37.713431  2015-05-13 23:30:00    ...              1        0         0   \n",
       "3  37.776601  2015-05-13 23:00:00    ...              0        0         0   \n",
       "4  37.807802  2015-05-13 23:00:00    ...              0        0         0   \n",
       "\n",
       "   PARK  RICHMOND  SOUTHERN  TARAVAL  TENDERLOIN     X_group    Y_group  \n",
       "0     0         0         0        0           0 -122.312278  42.937172  \n",
       "1     1         0         0        0           0 -122.312278  42.937172  \n",
       "2     0         0         0        0           0 -122.312278  42.937172  \n",
       "3     0         1         0        0           0 -122.312278  42.937172  \n",
       "4     0         0         0        0           0 -122.312278  42.937172  \n",
       "\n",
       "[5 rows x 39 columns]"
      ]
     },
     "execution_count": 8,
     "metadata": {},
     "output_type": "execute_result"
    }
   ],
   "source": [
    "df_crime= pd.concat([df, df_X, df_Y], axis=1)\n",
    "df_crime.head()"
   ]
  },
  {
   "cell_type": "code",
   "execution_count": 9,
   "metadata": {},
   "outputs": [],
   "source": [
    "del df_crime['Category_index']"
   ]
  },
  {
   "cell_type": "code",
   "execution_count": 10,
   "metadata": {},
   "outputs": [
    {
     "data": {
      "text/plain": [
       "Index(['Dates', 'Category', 'Descript', 'DayOfWeek', 'PdDistrict',\n",
       "       'Resolution', 'Address', 'X', 'Y', 'Date', 'Year', 'Month', 'Day',\n",
       "       'Hour', 'DayOfWeek_index', 'PdDistrict_index', 'Descript_index',\n",
       "       'Resolution_index', 'Address_index', 'Friday', 'Monday', 'Saturday',\n",
       "       'Sunday', 'Thursday', 'Tuesday', 'Wednesday', 'BAYVIEW', 'CENTRAL',\n",
       "       'INGLESIDE', 'MISSION', 'NORTHERN', 'PARK', 'RICHMOND', 'SOUTHERN',\n",
       "       'TARAVAL', 'TENDERLOIN', 'X_group', 'Y_group'],\n",
       "      dtype='object')"
      ]
     },
     "execution_count": 10,
     "metadata": {},
     "output_type": "execute_result"
    }
   ],
   "source": [
    "df_crime.columns"
   ]
  },
  {
   "cell_type": "code",
   "execution_count": 11,
   "metadata": {},
   "outputs": [],
   "source": [
    "df_crime =df_crime[['Dates', 'Category', 'Descript', 'DayOfWeek', 'PdDistrict',\n",
    "       'Resolution', 'Address', 'X', 'Y', 'Date', 'Year', 'Month', 'Day', 'DayOfWeek_index', 'PdDistrict_index',\n",
    "       'Descript_index', 'Resolution_index', 'Address_index', \n",
    "       'Monday', 'Tuesday', 'Wednesday','Thursday', 'Friday','Saturday', 'Sunday', \n",
    "       'BAYVIEW', 'CENTRAL', 'INGLESIDE', 'MISSION', 'NORTHERN', 'PARK',\n",
    "       'RICHMOND', 'SOUTHERN', 'TARAVAL', 'TENDERLOIN', 'X_group', 'Y_group',\n",
    "       'Hour']]"
   ]
  },
  {
   "cell_type": "code",
   "execution_count": 12,
   "metadata": {},
   "outputs": [
    {
     "data": {
      "text/html": [
       "<div>\n",
       "<style scoped>\n",
       "    .dataframe tbody tr th:only-of-type {\n",
       "        vertical-align: middle;\n",
       "    }\n",
       "\n",
       "    .dataframe tbody tr th {\n",
       "        vertical-align: top;\n",
       "    }\n",
       "\n",
       "    .dataframe thead th {\n",
       "        text-align: right;\n",
       "    }\n",
       "</style>\n",
       "<table border=\"1\" class=\"dataframe\">\n",
       "  <thead>\n",
       "    <tr style=\"text-align: right;\">\n",
       "      <th></th>\n",
       "      <th>Dates</th>\n",
       "      <th>Category</th>\n",
       "      <th>Descript</th>\n",
       "      <th>DayOfWeek</th>\n",
       "      <th>PdDistrict</th>\n",
       "      <th>Resolution</th>\n",
       "      <th>Address</th>\n",
       "      <th>X</th>\n",
       "      <th>Y</th>\n",
       "      <th>Date</th>\n",
       "      <th>...</th>\n",
       "      <th>MISSION</th>\n",
       "      <th>NORTHERN</th>\n",
       "      <th>PARK</th>\n",
       "      <th>RICHMOND</th>\n",
       "      <th>SOUTHERN</th>\n",
       "      <th>TARAVAL</th>\n",
       "      <th>TENDERLOIN</th>\n",
       "      <th>X_group</th>\n",
       "      <th>Y_group</th>\n",
       "      <th>Hour</th>\n",
       "    </tr>\n",
       "  </thead>\n",
       "  <tbody>\n",
       "    <tr>\n",
       "      <th>0</th>\n",
       "      <td>2015-05-13 23:30:00</td>\n",
       "      <td>LARCENY/THEFT</td>\n",
       "      <td>GRAND THEFT FROM LOCKED AUTO</td>\n",
       "      <td>Wednesday</td>\n",
       "      <td>NORTHERN</td>\n",
       "      <td>NONE</td>\n",
       "      <td>1500 Block of LOMBARD ST</td>\n",
       "      <td>-122.426995</td>\n",
       "      <td>37.800873</td>\n",
       "      <td>2015-05-13 23:30:00</td>\n",
       "      <td>...</td>\n",
       "      <td>0</td>\n",
       "      <td>1</td>\n",
       "      <td>0</td>\n",
       "      <td>0</td>\n",
       "      <td>0</td>\n",
       "      <td>0</td>\n",
       "      <td>0</td>\n",
       "      <td>-122.312278</td>\n",
       "      <td>42.937172</td>\n",
       "      <td>23</td>\n",
       "    </tr>\n",
       "    <tr>\n",
       "      <th>1</th>\n",
       "      <td>2015-05-13 23:30:00</td>\n",
       "      <td>LARCENY/THEFT</td>\n",
       "      <td>GRAND THEFT FROM LOCKED AUTO</td>\n",
       "      <td>Wednesday</td>\n",
       "      <td>PARK</td>\n",
       "      <td>NONE</td>\n",
       "      <td>100 Block of BRODERICK ST</td>\n",
       "      <td>-122.438738</td>\n",
       "      <td>37.771541</td>\n",
       "      <td>2015-05-13 23:30:00</td>\n",
       "      <td>...</td>\n",
       "      <td>0</td>\n",
       "      <td>0</td>\n",
       "      <td>1</td>\n",
       "      <td>0</td>\n",
       "      <td>0</td>\n",
       "      <td>0</td>\n",
       "      <td>0</td>\n",
       "      <td>-122.312278</td>\n",
       "      <td>42.937172</td>\n",
       "      <td>23</td>\n",
       "    </tr>\n",
       "    <tr>\n",
       "      <th>2</th>\n",
       "      <td>2015-05-13 23:30:00</td>\n",
       "      <td>LARCENY/THEFT</td>\n",
       "      <td>GRAND THEFT FROM UNLOCKED AUTO</td>\n",
       "      <td>Wednesday</td>\n",
       "      <td>INGLESIDE</td>\n",
       "      <td>NONE</td>\n",
       "      <td>0 Block of TEDDY AV</td>\n",
       "      <td>-122.403252</td>\n",
       "      <td>37.713431</td>\n",
       "      <td>2015-05-13 23:30:00</td>\n",
       "      <td>...</td>\n",
       "      <td>0</td>\n",
       "      <td>0</td>\n",
       "      <td>0</td>\n",
       "      <td>0</td>\n",
       "      <td>0</td>\n",
       "      <td>0</td>\n",
       "      <td>0</td>\n",
       "      <td>-122.312278</td>\n",
       "      <td>42.937172</td>\n",
       "      <td>23</td>\n",
       "    </tr>\n",
       "    <tr>\n",
       "      <th>3</th>\n",
       "      <td>2015-05-13 23:00:00</td>\n",
       "      <td>LARCENY/THEFT</td>\n",
       "      <td>GRAND THEFT FROM LOCKED AUTO</td>\n",
       "      <td>Wednesday</td>\n",
       "      <td>RICHMOND</td>\n",
       "      <td>NONE</td>\n",
       "      <td>600 Block of 47TH AV</td>\n",
       "      <td>-122.508194</td>\n",
       "      <td>37.776601</td>\n",
       "      <td>2015-05-13 23:00:00</td>\n",
       "      <td>...</td>\n",
       "      <td>0</td>\n",
       "      <td>0</td>\n",
       "      <td>0</td>\n",
       "      <td>1</td>\n",
       "      <td>0</td>\n",
       "      <td>0</td>\n",
       "      <td>0</td>\n",
       "      <td>-122.312278</td>\n",
       "      <td>42.937172</td>\n",
       "      <td>23</td>\n",
       "    </tr>\n",
       "    <tr>\n",
       "      <th>4</th>\n",
       "      <td>2015-05-13 23:00:00</td>\n",
       "      <td>LARCENY/THEFT</td>\n",
       "      <td>GRAND THEFT FROM LOCKED AUTO</td>\n",
       "      <td>Wednesday</td>\n",
       "      <td>CENTRAL</td>\n",
       "      <td>NONE</td>\n",
       "      <td>JEFFERSON ST / LEAVENWORTH ST</td>\n",
       "      <td>-122.419088</td>\n",
       "      <td>37.807802</td>\n",
       "      <td>2015-05-13 23:00:00</td>\n",
       "      <td>...</td>\n",
       "      <td>0</td>\n",
       "      <td>0</td>\n",
       "      <td>0</td>\n",
       "      <td>0</td>\n",
       "      <td>0</td>\n",
       "      <td>0</td>\n",
       "      <td>0</td>\n",
       "      <td>-122.312278</td>\n",
       "      <td>42.937172</td>\n",
       "      <td>23</td>\n",
       "    </tr>\n",
       "  </tbody>\n",
       "</table>\n",
       "<p>5 rows × 38 columns</p>\n",
       "</div>"
      ],
      "text/plain": [
       "                 Dates       Category                        Descript  \\\n",
       "0  2015-05-13 23:30:00  LARCENY/THEFT    GRAND THEFT FROM LOCKED AUTO   \n",
       "1  2015-05-13 23:30:00  LARCENY/THEFT    GRAND THEFT FROM LOCKED AUTO   \n",
       "2  2015-05-13 23:30:00  LARCENY/THEFT  GRAND THEFT FROM UNLOCKED AUTO   \n",
       "3  2015-05-13 23:00:00  LARCENY/THEFT    GRAND THEFT FROM LOCKED AUTO   \n",
       "4  2015-05-13 23:00:00  LARCENY/THEFT    GRAND THEFT FROM LOCKED AUTO   \n",
       "\n",
       "   DayOfWeek PdDistrict Resolution                        Address           X  \\\n",
       "0  Wednesday   NORTHERN       NONE       1500 Block of LOMBARD ST -122.426995   \n",
       "1  Wednesday       PARK       NONE      100 Block of BRODERICK ST -122.438738   \n",
       "2  Wednesday  INGLESIDE       NONE            0 Block of TEDDY AV -122.403252   \n",
       "3  Wednesday   RICHMOND       NONE           600 Block of 47TH AV -122.508194   \n",
       "4  Wednesday    CENTRAL       NONE  JEFFERSON ST / LEAVENWORTH ST -122.419088   \n",
       "\n",
       "           Y                 Date  ...   MISSION  NORTHERN  PARK  RICHMOND  \\\n",
       "0  37.800873  2015-05-13 23:30:00  ...         0         1     0         0   \n",
       "1  37.771541  2015-05-13 23:30:00  ...         0         0     1         0   \n",
       "2  37.713431  2015-05-13 23:30:00  ...         0         0     0         0   \n",
       "3  37.776601  2015-05-13 23:00:00  ...         0         0     0         1   \n",
       "4  37.807802  2015-05-13 23:00:00  ...         0         0     0         0   \n",
       "\n",
       "   SOUTHERN  TARAVAL  TENDERLOIN     X_group    Y_group  Hour  \n",
       "0         0        0           0 -122.312278  42.937172    23  \n",
       "1         0        0           0 -122.312278  42.937172    23  \n",
       "2         0        0           0 -122.312278  42.937172    23  \n",
       "3         0        0           0 -122.312278  42.937172    23  \n",
       "4         0        0           0 -122.312278  42.937172    23  \n",
       "\n",
       "[5 rows x 38 columns]"
      ]
     },
     "execution_count": 12,
     "metadata": {},
     "output_type": "execute_result"
    }
   ],
   "source": [
    "df_crime.head()"
   ]
  },
  {
   "cell_type": "code",
   "execution_count": 13,
   "metadata": {},
   "outputs": [
    {
     "data": {
      "text/plain": [
       "Index(['Dates', 'Category', 'Descript', 'DayOfWeek', 'PdDistrict',\n",
       "       'Resolution', 'Address', 'X', 'Y', 'Date', 'Year', 'Month', 'Day',\n",
       "       'DayOfWeek_index', 'PdDistrict_index', 'Descript_index',\n",
       "       'Resolution_index', 'Address_index', 'Monday', 'Tuesday', 'Wednesday',\n",
       "       'Thursday', 'Friday', 'Saturday', 'Sunday', 'BAYVIEW', 'CENTRAL',\n",
       "       'INGLESIDE', 'MISSION', 'NORTHERN', 'PARK', 'RICHMOND', 'SOUTHERN',\n",
       "       'TARAVAL', 'TENDERLOIN', 'X_group', 'Y_group', 'Hour'],\n",
       "      dtype='object')"
      ]
     },
     "execution_count": 13,
     "metadata": {},
     "output_type": "execute_result"
    }
   ],
   "source": [
    "df_crime.columns"
   ]
  },
  {
   "cell_type": "code",
   "execution_count": 14,
   "metadata": {},
   "outputs": [
    {
     "data": {
      "text/plain": [
       "(-122.312277857861, -120.70136420642899)"
      ]
     },
     "execution_count": 14,
     "metadata": {},
     "output_type": "execute_result"
    }
   ],
   "source": [
    "min(df_crime['X_group']),max(df_crime['X_group'])"
   ]
  },
  {
   "cell_type": "code",
   "execution_count": 15,
   "metadata": {},
   "outputs": [],
   "source": [
    "# df_crime['Wednesday']"
   ]
  },
  {
   "cell_type": "code",
   "execution_count": 16,
   "metadata": {},
   "outputs": [],
   "source": [
    "df_crime.to_csv('./team_project_2/basic_dataset/SanFrancisco_Crime_Classification/theft_dataset.csv',sep=',', encoding='utf-8')"
   ]
  },
  {
   "cell_type": "code",
   "execution_count": 17,
   "metadata": {},
   "outputs": [],
   "source": [
    "import pandas as pd\n",
    "import numpy as np\n",
    "from sklearn.model_selection import train_test_split\n",
    "\n",
    "train, test = train_test_split(df_crime, test_size=0.275)"
   ]
  },
  {
   "cell_type": "code",
   "execution_count": 18,
   "metadata": {},
   "outputs": [
    {
     "data": {
      "text/plain": [
       "(126802, 48098)"
      ]
     },
     "execution_count": 18,
     "metadata": {},
     "output_type": "execute_result"
    }
   ],
   "source": [
    "len(train), len(test)"
   ]
  },
  {
   "cell_type": "code",
   "execution_count": 19,
   "metadata": {},
   "outputs": [],
   "source": [
    "df_x =df_crime[['X', 'Y', 'Year', 'Month', 'Day', 'DayOfWeek_index', 'PdDistrict_index',\n",
    "       'Descript_index', 'Resolution_index', 'Address_index', \n",
    "       'Monday', 'Tuesday', 'Wednesday','Thursday', 'Friday','Saturday', 'Sunday', \n",
    "       'BAYVIEW', 'CENTRAL', 'INGLESIDE', 'MISSION', 'NORTHERN', 'PARK',\n",
    "       'RICHMOND', 'SOUTHERN', 'TARAVAL', 'TENDERLOIN', 'X_group', 'Y_group']]"
   ]
  },
  {
   "cell_type": "code",
   "execution_count": 20,
   "metadata": {},
   "outputs": [
    {
     "data": {
      "text/plain": [
       "29"
      ]
     },
     "execution_count": 20,
     "metadata": {},
     "output_type": "execute_result"
    }
   ],
   "source": [
    "len(df_x.columns)"
   ]
  },
  {
   "cell_type": "code",
   "execution_count": 21,
   "metadata": {},
   "outputs": [],
   "source": [
    "df_y =df_crime[['Hour']]"
   ]
  },
  {
   "cell_type": "code",
   "execution_count": 22,
   "metadata": {},
   "outputs": [],
   "source": [
    "from tqdm import tqdm_notebook\n",
    "import tensorflow as tf\n",
    "import random\n",
    "import matplotlib.pyplot as plt\n",
    "\n",
    "from tensorflow.examples.tutorials.mnist import input_data"
   ]
  },
  {
   "cell_type": "code",
   "execution_count": 23,
   "metadata": {},
   "outputs": [],
   "source": [
    "def xavier_init(n_inputs, n_outputs, uniform=True):\n",
    "    if uniform:\n",
    "        # 6 was used in the paper.\n",
    "        init_range = tf.sqrt(6.0 / (n_inputs + n_outputs))\n",
    "        return tf.random_uniform_initializer(-init_range, init_range)\n",
    "    else:\n",
    "        # 3 gives us approximately the same limints as above since this repicks\n",
    "        # values greater than 2 standard deviations from the mean.\n",
    "        stddev = tf.sqrt(3.0 / (n_inputs + n_outputs))\n",
    "        return tf.truncated_normal_initializer(stddev=stddev)"
   ]
  },
  {
   "cell_type": "code",
   "execution_count": 28,
   "metadata": {},
   "outputs": [
    {
     "name": "stdout",
     "output_type": "stream",
     "text": [
      "[[0. 0. 0. ... 0. 0. 1.]\n",
      " [0. 0. 0. ... 0. 0. 1.]\n",
      " [0. 0. 0. ... 0. 0. 1.]\n",
      " ...\n",
      " [1. 0. 0. ... 0. 0. 0.]\n",
      " [1. 0. 0. ... 0. 0. 0.]\n",
      " [1. 0. 0. ... 0. 0. 0.]]\n"
     ]
    }
   ],
   "source": [
    "import tensorflow as tf\n",
    "import random\n",
    "import matplotlib.pyplot as plt\n",
    "\n",
    "tf.reset_default_graph()\n",
    "\n",
    "x_data = df_x\n",
    "sess = tf.Session()\n",
    "y_data = tf.one_hot(df_y, depth = 24).eval(session=sess)\n",
    "y_data = tf.reshape(y_data, shape=[-1,24]).eval(session=sess)\n",
    "print(y_data)\n",
    "tf.set_random_seed(1004)  # reproducibility\n",
    "\n",
    "\n",
    "\n",
    "# parameters\n",
    "learning_rate = 0.3\n",
    "\n",
    "\n",
    "\n",
    "# input place holders, 784(=28*28)\n",
    "X = tf.placeholder(tf.float32, [None, 29])\n",
    "Y = tf.placeholder(tf.float32, [None, 24])\n",
    "\n",
    "# weights & bias for nn layers\n",
    "W = tf.Variable(tf.random_normal([29, 24]))\n",
    "b = tf.Variable(tf.random_normal([24]))\n",
    "\n",
    "hypothesis = tf.matmul(X, W) + b\n",
    "\n",
    "# define cost/loss & optimizer\n",
    "cost = tf.reduce_mean(tf.nn.softmax_cross_entropy_with_logits(\n",
    "    logits=hypothesis, labels=Y))\n",
    "optimizer = tf.train.AdamOptimizer(learning_rate=learning_rate).minimize(cost)\n",
    "correct_prediction = tf.equal(tf.argmax(hypothesis, 1), tf.argmax(Y, 1))\n",
    "accuracy = tf.reduce_mean(tf.cast(correct_prediction, tf.float32))"
   ]
  },
  {
   "cell_type": "code",
   "execution_count": null,
   "metadata": {},
   "outputs": [
    {
     "name": "stdout",
     "output_type": "stream",
     "text": [
      "Step:     0, \t Cost: 6752.877, \t Acc: 4.59%\n",
      "Step:     1, \t Cost: 5674.941, \t Acc: 4.38%\n",
      "Step:     2, \t Cost: 5476.267, \t Acc: 2.56%\n",
      "Step:     3, \t Cost: 4340.440, \t Acc: 3.19%\n",
      "Step:     4, \t Cost: 4308.213, \t Acc: 4.51%\n",
      "Step:     5, \t Cost: 4374.746, \t Acc: 2.38%\n",
      "Step:     6, \t Cost: 5095.533, \t Acc: 4.71%\n",
      "Step:     7, \t Cost: 5046.134, \t Acc: 5.83%\n",
      "Step:     8, \t Cost: 5373.265, \t Acc: 7.20%\n",
      "Step:     9, \t Cost: 5368.363, \t Acc: 7.43%\n",
      "Step:    10, \t Cost: 5466.922, \t Acc: 6.08%\n",
      "Step:    11, \t Cost: 5644.102, \t Acc: 7.77%\n",
      "Step:    12, \t Cost: 5150.352, \t Acc: 7.21%\n",
      "Step:    13, \t Cost: 4815.299, \t Acc: 5.54%\n",
      "Step:    14, \t Cost: 4315.698, \t Acc: 5.87%\n",
      "Step:    15, \t Cost: 4781.384, \t Acc: 4.86%\n",
      "Step:    16, \t Cost: 4555.952, \t Acc: 4.40%\n",
      "Step:    17, \t Cost: 4196.104, \t Acc: 4.88%\n",
      "Step:    18, \t Cost: 3561.909, \t Acc: 6.21%\n",
      "Step:    19, \t Cost: 3246.754, \t Acc: 7.12%\n",
      "Step:    20, \t Cost: 3376.382, \t Acc: 5.38%\n",
      "Step:    21, \t Cost: 3510.843, \t Acc: 5.29%\n",
      "Step:    22, \t Cost: 3377.427, \t Acc: 7.15%\n",
      "Step:    23, \t Cost: 3712.562, \t Acc: 5.93%\n",
      "Step:    24, \t Cost: 3416.027, \t Acc: 6.08%\n",
      "Step:    25, \t Cost: 3188.648, \t Acc: 6.17%\n",
      "Step:    26, \t Cost: 3032.546, \t Acc: 6.59%\n",
      "Step:    27, \t Cost: 2772.525, \t Acc: 6.78%\n",
      "Step:    28, \t Cost: 2774.396, \t Acc: 5.79%\n",
      "Step:    29, \t Cost: 2654.391, \t Acc: 5.25%\n",
      "Step:    30, \t Cost: 2339.624, \t Acc: 6.65%\n",
      "Step:    31, \t Cost: 2057.851, \t Acc: 6.43%\n",
      "Step:    32, \t Cost: 2030.160, \t Acc: 5.79%\n",
      "Step:    33, \t Cost: 2070.164, \t Acc: 5.74%\n",
      "Step:    34, \t Cost: 1929.631, \t Acc: 6.48%\n",
      "Step:    35, \t Cost: 2023.584, \t Acc: 6.67%\n",
      "Step:    36, \t Cost: 1902.933, \t Acc: 5.75%\n",
      "Step:    37, \t Cost: 1805.418, \t Acc: 4.92%\n",
      "Step:    38, \t Cost: 1650.457, \t Acc: 4.34%\n",
      "Step:    39, \t Cost: 1417.757, \t Acc: 5.72%\n",
      "Step:    40, \t Cost: 1387.991, \t Acc: 5.11%\n",
      "Step:    41, \t Cost: 1437.382, \t Acc: 5.72%\n",
      "Step:    42, \t Cost: 1335.124, \t Acc: 4.12%\n",
      "Step:    43, \t Cost: 1345.935, \t Acc: 4.81%\n",
      "Step:    44, \t Cost: 1405.230, \t Acc: 3.21%\n",
      "Step:    45, \t Cost: 1494.297, \t Acc: 5.13%\n",
      "Step:    46, \t Cost: 1491.884, \t Acc: 3.70%\n",
      "Step:    47, \t Cost: 1408.781, \t Acc: 5.99%\n",
      "Step:    48, \t Cost: 1354.367, \t Acc: 6.30%\n",
      "Step:    49, \t Cost: 1373.056, \t Acc: 7.24%\n",
      "Step:    50, \t Cost: 1432.320, \t Acc: 5.18%\n",
      "Step:    51, \t Cost: 1550.864, \t Acc: 5.99%\n",
      "Step:    52, \t Cost: 1754.251, \t Acc: 5.47%\n",
      "Step:    53, \t Cost: 1655.315, \t Acc: 3.98%\n",
      "Step:    54, \t Cost: 1484.790, \t Acc: 4.67%\n",
      "Step:    55, \t Cost: 1510.652, \t Acc: 4.37%\n",
      "Step:    56, \t Cost: 1540.282, \t Acc: 5.45%\n",
      "Step:    57, \t Cost: 1617.985, \t Acc: 6.76%\n",
      "Step:    58, \t Cost: 1412.643, \t Acc: 5.49%\n",
      "Step:    59, \t Cost: 1458.041, \t Acc: 6.48%\n",
      "Step:    60, \t Cost: 1561.082, \t Acc: 4.79%\n",
      "Step:    61, \t Cost: 1592.023, \t Acc: 1.91%\n",
      "Step:    62, \t Cost: 1434.710, \t Acc: 3.59%\n",
      "Step:    63, \t Cost: 1550.626, \t Acc: 6.71%\n",
      "Step:    64, \t Cost: 1385.562, \t Acc: 6.78%\n",
      "Step:    65, \t Cost: 1380.650, \t Acc: 6.76%\n",
      "Step:    66, \t Cost: 1345.554, \t Acc: 5.78%\n",
      "Step:    67, \t Cost: 1361.876, \t Acc: 5.72%\n",
      "Step:    68, \t Cost: 1460.316, \t Acc: 6.67%\n",
      "Step:    69, \t Cost: 1545.722, \t Acc: 5.79%\n",
      "Step:    70, \t Cost: 1516.755, \t Acc: 6.30%\n",
      "Step:    71, \t Cost: 1533.040, \t Acc: 5.24%\n",
      "Step:    72, \t Cost: 1387.081, \t Acc: 5.57%\n",
      "Step:    73, \t Cost: 1296.146, \t Acc: 5.40%\n",
      "Step:    74, \t Cost: 1511.258, \t Acc: 6.37%\n",
      "Step:    75, \t Cost: 1429.850, \t Acc: 4.79%\n",
      "Step:    76, \t Cost: 1457.385, \t Acc: 4.96%\n",
      "Step:    77, \t Cost: 1505.307, \t Acc: 5.85%\n",
      "Step:    78, \t Cost: 1498.592, \t Acc: 7.08%\n",
      "Step:    79, \t Cost: 1452.734, \t Acc: 3.81%\n",
      "Step:    80, \t Cost: 1569.515, \t Acc: 4.72%\n",
      "Step:    81, \t Cost: 1706.973, \t Acc: 4.03%\n",
      "Step:    82, \t Cost: 1600.239, \t Acc: 3.52%\n",
      "Step:    83, \t Cost: 1697.258, \t Acc: 6.78%\n",
      "Step:    84, \t Cost: 1581.831, \t Acc: 6.39%\n",
      "Step:    85, \t Cost: 1696.252, \t Acc: 6.39%\n",
      "Step:    86, \t Cost: 1851.706, \t Acc: 6.16%\n",
      "Step:    87, \t Cost: 1637.704, \t Acc: 6.00%\n",
      "Step:    88, \t Cost: 1845.368, \t Acc: 5.19%\n",
      "Step:    89, \t Cost: 1814.243, \t Acc: 6.24%\n",
      "Step:    90, \t Cost: 1826.658, \t Acc: 5.58%\n",
      "Step:    91, \t Cost: 1856.537, \t Acc: 6.79%\n",
      "Step:    92, \t Cost: 1867.162, \t Acc: 4.42%\n",
      "Step:    93, \t Cost: 1720.990, \t Acc: 6.73%\n",
      "Step:    94, \t Cost: 1783.734, \t Acc: 5.83%\n",
      "Step:    95, \t Cost: 1790.267, \t Acc: 3.52%\n",
      "Step:    96, \t Cost: 1713.407, \t Acc: 6.24%\n",
      "Step:    97, \t Cost: 1877.776, \t Acc: 5.35%\n",
      "Step:    98, \t Cost: 1562.357, \t Acc: 7.02%\n",
      "Step:    99, \t Cost: 1684.264, \t Acc: 4.20%\n"
     ]
    }
   ],
   "source": [
    "sess = tf.Session()\n",
    "\n",
    "# Initializes global variables in the graph.\n",
    "sess.run(tf.global_variables_initializer())\n",
    "\n",
    "for step in range(5001):\n",
    "    sess.run(optimizer, feed_dict={X: x_data, Y: y_data})\n",
    "    if step % 1000 == 0 or step < 100:\n",
    "        loss, acc = sess.run([cost, accuracy], feed_dict={\n",
    "                             X: x_data, Y: y_data})\n",
    "        print(\"Step: {:5}, \\t Cost: {:.3f}, \\t Acc: {:.2%}\".format(\n",
    "            step, loss, acc))"
   ]
  },
  {
   "cell_type": "code",
   "execution_count": null,
   "metadata": {},
   "outputs": [],
   "source": []
  },
  {
   "cell_type": "code",
   "execution_count": null,
   "metadata": {},
   "outputs": [],
   "source": []
  },
  {
   "cell_type": "code",
   "execution_count": null,
   "metadata": {},
   "outputs": [],
   "source": []
  }
 ],
 "metadata": {
  "kernelspec": {
   "display_name": "Python 3",
   "language": "python",
   "name": "python3"
  },
  "language_info": {
   "codemirror_mode": {
    "name": "ipython",
    "version": 3
   },
   "file_extension": ".py",
   "mimetype": "text/x-python",
   "name": "python",
   "nbconvert_exporter": "python",
   "pygments_lexer": "ipython3",
   "version": "3.6.5"
  }
 },
 "nbformat": 4,
 "nbformat_minor": 2
}
